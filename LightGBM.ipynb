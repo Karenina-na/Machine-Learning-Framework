{
 "cells": [
  {
   "cell_type": "code",
   "execution_count": 92,
   "outputs": [],
   "source": [
    "from sklearn.datasets import load_iris\n",
    "from sklearn.model_selection import train_test_split\n",
    "from sklearn.metrics import accuracy_score,precision_score,recall_score,f1_score,cohen_kappa_score, classification_report\n",
    "from lightgbm import LGBMClassifier\n",
    "import polars as pl\n",
    "import optuna\n",
    "import warnings\n",
    "\n",
    "# 忽略all warnings\n",
    "warnings.filterwarnings('ignore')"
   ],
   "metadata": {
    "collapsed": false,
    "ExecuteTime": {
     "end_time": "2023-12-04T12:42:03.951021600Z",
     "start_time": "2023-12-04T12:42:03.951021600Z"
    }
   },
   "id": "initial_id"
  },
  {
   "cell_type": "code",
   "execution_count": 82,
   "outputs": [],
   "source": [
    "iris = load_iris()\n",
    "\n",
    "data = pl.DataFrame(iris.data)\n",
    "data.columns = iris.feature_names\n",
    "target = pl.Series(iris.target)"
   ],
   "metadata": {
    "collapsed": false,
    "ExecuteTime": {
     "end_time": "2023-12-04T12:41:14.851214400Z",
     "start_time": "2023-12-04T12:41:14.819109100Z"
    }
   },
   "id": "c3e831840c9c407"
  },
  {
   "cell_type": "code",
   "execution_count": 83,
   "outputs": [],
   "source": [
    "X_train, X_test, Y_train, Y_test = train_test_split(data, target, test_size=0.2, random_state=42)"
   ],
   "metadata": {
    "collapsed": false,
    "ExecuteTime": {
     "end_time": "2023-12-04T12:41:15.036228600Z",
     "start_time": "2023-12-04T12:41:15.036228600Z"
    }
   },
   "id": "4c71738005e25d3b"
  },
  {
   "cell_type": "code",
   "execution_count": 84,
   "outputs": [
    {
     "data": {
      "text/plain": "((120, 4), (120,), (30, 4), (30,))"
     },
     "execution_count": 84,
     "metadata": {},
     "output_type": "execute_result"
    }
   ],
   "source": [
    "X_train.shape, Y_train.shape, X_test.shape, Y_test.shape"
   ],
   "metadata": {
    "collapsed": false,
    "ExecuteTime": {
     "end_time": "2023-12-04T12:41:15.248185500Z",
     "start_time": "2023-12-04T12:41:15.237585900Z"
    }
   },
   "id": "3b07e76aa2bfbad7"
  },
  {
   "cell_type": "code",
   "execution_count": 96,
   "outputs": [],
   "source": [
    "def objective(trial):\n",
    "    params = {\n",
    "        \"n_estimators\": trial.suggest_int(\"n_estimators\", 100, 1000), # default=100\n",
    "        'learning_rate': trial.suggest_float('learning_rate', 0.005, 0.5), # default 0.1\n",
    "        \n",
    "        \"num_leaves\": trial.suggest_int(\"num_leaves\", 20, 3000),    # default=31\n",
    "        \"max_depth\": trial.suggest_int(\"max_depth\", 3, 12),        # default=-1\n",
    "        \"min_data_in_leaf\": trial.suggest_int(\"min_data_in_leaf\", 1, 50), # default=20\n",
    "        \n",
    "        'reg_alpha': trial.suggest_float('reg_alpha', 0.0, 10.0),\n",
    "        'reg_lambda': trial.suggest_float('reg_lambda', 0.0, 10.0),\n",
    "        \n",
    "        \"min_gain_to_split\": trial.suggest_float(\"min_gain_to_split\", 0, 15),\n",
    "        'random_state': 42,\n",
    "    }\n",
    "    # 设置不打印信息\n",
    "    bst = LGBMClassifier(**params, verbose=-1)\n",
    "    bst.fit(X_train, Y_train)\n",
    "    accuracy = accuracy_score(Y_test, bst.predict(X_test))\n",
    "    \n",
    "    # 减枝\n",
    "    trial.report(accuracy, step=trial.number)\n",
    "    \n",
    "    # 如果准确率低于 90%，则剪枝\n",
    "    if accuracy < 0.9:\n",
    "        raise optuna.exceptions.TrialPruned()\n",
    "    \n",
    "    return accuracy"
   ],
   "metadata": {
    "collapsed": false,
    "ExecuteTime": {
     "end_time": "2023-12-04T12:42:59.644062600Z",
     "start_time": "2023-12-04T12:42:59.635695800Z"
    }
   },
   "id": "e351528db90ec06b"
  },
  {
   "cell_type": "code",
   "execution_count": 97,
   "outputs": [
    {
     "name": "stderr",
     "output_type": "stream",
     "text": [
      "[I 2023-12-04 20:43:01,207] A new study created in memory with name: LightGBM\n"
     ]
    }
   ],
   "source": [
    "# 对 RandomSampler 而言 MedianPruner 是最好的\n",
    "# 对 TPESampler 而言 HyperbandPruner 是最好的\n",
    "optuna.logging.set_verbosity(optuna.logging.INFO)\n",
    "study = optuna.create_study(\n",
    "    study_name='LightGBM', direction='maximize', \n",
    "    sampler=optuna.samplers.TPESampler(seed=42), pruner=optuna.pruners.HyperbandPruner()\n",
    ")"
   ],
   "metadata": {
    "collapsed": false,
    "ExecuteTime": {
     "end_time": "2023-12-04T12:43:01.216961700Z",
     "start_time": "2023-12-04T12:43:01.207021800Z"
    }
   },
   "id": "60e26ad7b6c3a0ed"
  },
  {
   "cell_type": "code",
   "execution_count": 98,
   "outputs": [
    {
     "data": {
      "text/plain": "  0%|          | 0/100 [00:00<?, ?it/s]",
      "application/vnd.jupyter.widget-view+json": {
       "version_major": 2,
       "version_minor": 0,
       "model_id": "a2033beaf1f34576be436fe1cfe24b02"
      }
     },
     "metadata": {},
     "output_type": "display_data"
    },
    {
     "name": "stdout",
     "output_type": "stream",
     "text": [
      "[I 2023-12-04 20:43:03,636] Trial 0 finished with value: 0.9666666666666667 and parameters: {'n_estimators': 254, 'learning_rate': 0.33061976188412806, 'num_leaves': 2617, 'max_depth': 3, 'min_data_in_leaf': 32, 'reg_alpha': 6.8751244354837695, 'reg_lambda': 6.754810785441291, 'min_gain_to_split': 1.5415589643245498}. Best is trial 0 with value: 0.9666666666666667.\n",
      "[I 2023-12-04 20:43:03,703] Trial 2 finished with value: 0.9666666666666667 and parameters: {'n_estimators': 316, 'learning_rate': 0.052775231201794955, 'num_leaves': 1203, 'max_depth': 4, 'min_data_in_leaf': 10, 'reg_alpha': 6.4213543819819705, 'reg_lambda': 2.1137586731107705, 'min_gain_to_split': 12.471546821693167}. Best is trial 0 with value: 0.9666666666666667.\n",
      "[I 2023-12-04 20:43:03,882] Trial 3 finished with value: 1.0 and parameters: {'n_estimators': 662, 'learning_rate': 0.4443548022067311, 'num_leaves': 1657, 'max_depth': 6, 'min_data_in_leaf': 7, 'reg_alpha': 1.5827802898554655, 'reg_lambda': 0.6171302463175055, 'min_gain_to_split': 10.6951908148363}. Best is trial 3 with value: 1.0.\n",
      "[I 2023-12-04 20:43:03,915] Trial 1 finished with value: 0.9666666666666667 and parameters: {'n_estimators': 694, 'learning_rate': 0.49077073756960893, 'num_leaves': 2171, 'max_depth': 10, 'min_data_in_leaf': 19, 'reg_alpha': 6.422565166767605, 'reg_lambda': 4.8563160667360785, 'min_gain_to_split': 13.738341440661433}. Best is trial 3 with value: 1.0.\n",
      "[I 2023-12-04 20:43:03,993] Trial 5 finished with value: 1.0 and parameters: {'n_estimators': 516, 'learning_rate': 0.1536801002735959, 'num_leaves': 1314, 'max_depth': 6, 'min_data_in_leaf': 32, 'reg_alpha': 2.8696119454351887, 'reg_lambda': 3.481499049359973, 'min_gain_to_split': 2.0793480604640564}. Best is trial 3 with value: 1.0.\n",
      "[I 2023-12-04 20:43:04,097] Trial 4 finished with value: 0.9666666666666667 and parameters: {'n_estimators': 858, 'learning_rate': 0.1009283260672244, 'num_leaves': 1902, 'max_depth': 8, 'min_data_in_leaf': 13, 'reg_alpha': 7.813235689592118, 'reg_lambda': 1.90990799627761, 'min_gain_to_split': 4.344736340349372}. Best is trial 3 with value: 1.0.\n",
      "[I 2023-12-04 20:43:04,117] Trial 6 finished with value: 0.9666666666666667 and parameters: {'n_estimators': 422, 'learning_rate': 0.21467540674121494, 'num_leaves': 1899, 'max_depth': 9, 'min_data_in_leaf': 14, 'reg_alpha': 2.9751383204023805, 'reg_lambda': 2.9899923134936977, 'min_gain_to_split': 10.386548272492611}. Best is trial 3 with value: 1.0.\n",
      "[I 2023-12-04 20:43:04,180] Trial 9 finished with value: 0.9666666666666667 and parameters: {'n_estimators': 128, 'learning_rate': 0.031953351494410656, 'num_leaves': 594, 'max_depth': 4, 'min_data_in_leaf': 42, 'reg_alpha': 6.8545746835326105, 'reg_lambda': 2.2370609844947653, 'min_gain_to_split': 4.581876587892914}. Best is trial 3 with value: 1.0.\n",
      "[I 2023-12-04 20:43:04,232] Trial 7 finished with value: 1.0 and parameters: {'n_estimators': 639, 'learning_rate': 0.1652443906711362, 'num_leaves': 1322, 'max_depth': 8, 'min_data_in_leaf': 42, 'reg_alpha': 4.242032822472321, 'reg_lambda': 4.04740122813127, 'min_gain_to_split': 4.123958952038822}. Best is trial 3 with value: 1.0.\n",
      "[I 2023-12-04 20:43:04,414] Trial 8 finished with value: 0.9666666666666667 and parameters: {'n_estimators': 868, 'learning_rate': 0.22584426379604514, 'num_leaves': 271, 'max_depth': 5, 'min_data_in_leaf': 28, 'reg_alpha': 3.412553641662184, 'reg_lambda': 9.102126681408643, 'min_gain_to_split': 9.587138591383114}. Best is trial 3 with value: 1.0.\n",
      "[I 2023-12-04 20:43:04,551] Trial 12 finished with value: 0.9666666666666667 and parameters: {'n_estimators': 615, 'learning_rate': 0.267374515658296, 'num_leaves': 2172, 'max_depth': 5, 'min_data_in_leaf': 16, 'reg_alpha': 9.703311109511827, 'reg_lambda': 6.552907471549903, 'min_gain_to_split': 6.628467355100398}. Best is trial 3 with value: 1.0.\n",
      "[I 2023-12-04 20:43:04,720] Trial 11 finished with value: 0.9666666666666667 and parameters: {'n_estimators': 998, 'learning_rate': 0.32084883353181604, 'num_leaves': 695, 'max_depth': 9, 'min_data_in_leaf': 40, 'reg_alpha': 3.927075795155229, 'reg_lambda': 4.815884234178055, 'min_gain_to_split': 9.880117100078625}. Best is trial 3 with value: 1.0.\n",
      "[I 2023-12-04 20:43:04,895] Trial 14 finished with value: 1.0 and parameters: {'n_estimators': 497, 'learning_rate': 0.4128926117545402, 'num_leaves': 944, 'max_depth': 12, 'min_data_in_leaf': 32, 'reg_alpha': 0.8269572290329559, 'reg_lambda': 0.3032070822945166, 'min_gain_to_split': 0.589689452654879}. Best is trial 3 with value: 1.0.\n",
      "[I 2023-12-04 20:43:05,031] Trial 15 finished with value: 1.0 and parameters: {'n_estimators': 487, 'learning_rate': 0.4932089678917888, 'num_leaves': 1075, 'max_depth': 6, 'min_data_in_leaf': 2, 'reg_alpha': 0.9740517619210145, 'reg_lambda': 0.12995252650708083, 'min_gain_to_split': 0.693819984640756}. Best is trial 3 with value: 1.0.\n",
      "[I 2023-12-04 20:43:05,081] Trial 10 finished with value: 1.0 and parameters: {'n_estimators': 848, 'learning_rate': 0.14130538127536268, 'num_leaves': 1479, 'max_depth': 12, 'min_data_in_leaf': 11, 'reg_alpha': 0.31731046230219606, 'reg_lambda': 1.612452362161374, 'min_gain_to_split': 4.026350265553894}. Best is trial 3 with value: 1.0.\n",
      "[I 2023-12-04 20:43:05,361] Trial 16 finished with value: 1.0 and parameters: {'n_estimators': 737, 'learning_rate': 0.13360743847578746, 'num_leaves': 1601, 'max_depth': 6, 'min_data_in_leaf': 1, 'reg_alpha': 1.2916588178532593, 'reg_lambda': 0.08314144824234937, 'min_gain_to_split': 7.279849159954814}. Best is trial 3 with value: 1.0.\n",
      "[I 2023-12-04 20:43:05,484] Trial 17 finished with value: 1.0 and parameters: {'n_estimators': 719, 'learning_rate': 0.12669339989672773, 'num_leaves': 1692, 'max_depth': 6, 'min_data_in_leaf': 1, 'reg_alpha': 2.234685580551173, 'reg_lambda': 0.8242525993407767, 'min_gain_to_split': 7.543550996011881}. Best is trial 3 with value: 1.0.\n",
      "[I 2023-12-04 20:43:05,584] Trial 18 finished with value: 1.0 and parameters: {'n_estimators': 749, 'learning_rate': 0.39723452358645345, 'num_leaves': 1764, 'max_depth': 6, 'min_data_in_leaf': 23, 'reg_alpha': 2.03925286510026, 'reg_lambda': 3.471088241444772, 'min_gain_to_split': 7.9685717387406925}. Best is trial 3 with value: 1.0.\n",
      "[I 2023-12-04 20:43:05,670] Trial 19 finished with value: 0.9666666666666667 and parameters: {'n_estimators': 391, 'learning_rate': 0.3675612297155654, 'num_leaves': 2949, 'max_depth': 7, 'min_data_in_leaf': 23, 'reg_alpha': 2.058822449487923, 'reg_lambda': 3.2923528307389276, 'min_gain_to_split': 12.071275409665565}. Best is trial 3 with value: 1.0.\n",
      "[I 2023-12-04 20:43:05,670] Trial 13 finished with value: 1.0 and parameters: {'n_estimators': 997, 'learning_rate': 0.48800930216988675, 'num_leaves': 2972, 'max_depth': 11, 'min_data_in_leaf': 1, 'reg_alpha': 0.4139780258552419, 'reg_lambda': 0.5094561220902344, 'min_gain_to_split': 7.759417241540359}. Best is trial 3 with value: 1.0.\n",
      "[I 2023-12-04 20:43:05,833] Trial 20 finished with value: 0.9666666666666667 and parameters: {'n_estimators': 387, 'learning_rate': 0.3782610569735235, 'num_leaves': 2976, 'max_depth': 7, 'min_data_in_leaf': 22, 'reg_alpha': 2.219872683739707, 'reg_lambda': 3.5928983673381665, 'min_gain_to_split': 12.067404290811242}. Best is trial 3 with value: 1.0.\n",
      "[I 2023-12-04 20:43:05,940] Trial 21 finished with value: 0.9666666666666667 and parameters: {'n_estimators': 351, 'learning_rate': 0.1901153870174463, 'num_leaves': 2687, 'max_depth': 7, 'min_data_in_leaf': 35, 'reg_alpha': 2.4754093008552984, 'reg_lambda': 3.043305021658806, 'min_gain_to_split': 14.546726828211124}. Best is trial 3 with value: 1.0.\n",
      "[I 2023-12-04 20:43:06,117] Trial 23 finished with value: 0.9333333333333333 and parameters: {'n_estimators': 484, 'learning_rate': 0.27204789188270195, 'num_leaves': 2366, 'max_depth': 7, 'min_data_in_leaf': 49, 'reg_alpha': 4.722941187525347, 'reg_lambda': 1.3549461989995226, 'min_gain_to_split': 14.089884297067256}. Best is trial 3 with value: 1.0.\n",
      "[I 2023-12-04 20:43:06,150] Trial 22 finished with value: 1.0 and parameters: {'n_estimators': 576, 'learning_rate': 0.2812913639986835, 'num_leaves': 2274, 'max_depth': 7, 'min_data_in_leaf': 50, 'reg_alpha': 4.347348263897409, 'reg_lambda': 1.3655513517378015, 'min_gain_to_split': 2.1866804387227807}. Best is trial 3 with value: 1.0.\n",
      "[I 2023-12-04 20:43:06,279] Trial 24 finished with value: 1.0 and parameters: {'n_estimators': 604, 'learning_rate': 0.19280809397944468, 'num_leaves': 1304, 'max_depth': 8, 'min_data_in_leaf': 49, 'reg_alpha': 4.4208289793705475, 'reg_lambda': 4.414831301599163, 'min_gain_to_split': 2.2696941831870765}. Best is trial 3 with value: 1.0.\n",
      "[I 2023-12-04 20:43:06,402] Trial 25 finished with value: 1.0 and parameters: {'n_estimators': 548, 'learning_rate': 0.18258898127153717, 'num_leaves': 1326, 'max_depth': 8, 'min_data_in_leaf': 47, 'reg_alpha': 4.502884976414566, 'reg_lambda': 4.460998078395228, 'min_gain_to_split': 2.5490518794743533}. Best is trial 3 with value: 1.0.\n",
      "[I 2023-12-04 20:43:06,593] Trial 27 finished with value: 1.0 and parameters: {'n_estimators': 627, 'learning_rate': 0.21238422023792053, 'num_leaves': 1312, 'max_depth': 8, 'min_data_in_leaf': 42, 'reg_alpha': 3.479517139273895, 'reg_lambda': 4.081585829448027, 'min_gain_to_split': 2.5877249306401033}. Best is trial 3 with value: 1.0.\n",
      "[I 2023-12-04 20:43:06,673] Trial 26 finished with value: 1.0 and parameters: {'n_estimators': 628, 'learning_rate': 0.17899595948662733, 'num_leaves': 1386, 'max_depth': 8, 'min_data_in_leaf': 42, 'reg_alpha': 3.17027451751306, 'reg_lambda': 4.495147430544513, 'min_gain_to_split': 2.7063620349511295}. Best is trial 3 with value: 1.0.\n",
      "[I 2023-12-04 20:43:06,780] Trial 28 finished with value: 1.0 and parameters: {'n_estimators': 671, 'learning_rate': 0.16546714816385985, 'num_leaves': 1378, 'max_depth': 9, 'min_data_in_leaf': 42, 'reg_alpha': 3.294919100903636, 'reg_lambda': 4.069123140828036, 'min_gain_to_split': 3.2165450328168967}. Best is trial 3 with value: 1.0.\n",
      "[I 2023-12-04 20:43:06,948] Trial 32 finished with value: 0.9666666666666667 and parameters: {'n_estimators': 213, 'learning_rate': 0.08413757062805816, 'num_leaves': 882, 'max_depth': 3, 'min_data_in_leaf': 36, 'reg_alpha': 5.243672750336564, 'reg_lambda': 5.69437986286644, 'min_gain_to_split': 5.2770795031158}. Best is trial 3 with value: 1.0.\n",
      "[I 2023-12-04 20:43:06,980] Trial 29 finished with value: 1.0 and parameters: {'n_estimators': 781, 'learning_rate': 0.1656235384732488, 'num_leaves': 900, 'max_depth': 5, 'min_data_in_leaf': 41, 'reg_alpha': 3.4104721273251224, 'reg_lambda': 2.511444913789057, 'min_gain_to_split': 5.164293598238535}. Best is trial 3 with value: 1.0.\n",
      "[I 2023-12-04 20:43:07,189] Trial 30 finished with value: 1.0 and parameters: {'n_estimators': 660, 'learning_rate': 0.0694802443639658, 'num_leaves': 731, 'max_depth': 5, 'min_data_in_leaf': 37, 'reg_alpha': 1.4910851284988285, 'reg_lambda': 2.6856755177966183, 'min_gain_to_split': 0.005732313907384601}. Best is trial 3 with value: 1.0.\n",
      "[I 2023-12-04 20:43:07,316] Trial 31 finished with value: 1.0 and parameters: {'n_estimators': 799, 'learning_rate': 0.0773431681382802, 'num_leaves': 840, 'max_depth': 9, 'min_data_in_leaf': 37, 'reg_alpha': 3.788847577269982, 'reg_lambda': 2.5661035335051516, 'min_gain_to_split': 5.192845738226592}. Best is trial 3 with value: 1.0.\n",
      "[I 2023-12-04 20:43:07,393] Trial 33 finished with value: 1.0 and parameters: {'n_estimators': 541, 'learning_rate': 0.24339764604190606, 'num_leaves': 41, 'max_depth': 12, 'min_data_in_leaf': 8, 'reg_alpha': 0.1934041723565194, 'reg_lambda': 1.19148068273286, 'min_gain_to_split': 1.2815685124272118}. Best is trial 3 with value: 1.0.\n",
      "[I 2023-12-04 20:43:07,917] Trial 37 finished with value: 1.0 and parameters: {'n_estimators': 912, 'learning_rate': 0.1327698631059878, 'num_leaves': 1517, 'max_depth': 10, 'min_data_in_leaf': 6, 'reg_alpha': 0.10847115622988124, 'reg_lambda': 1.9234241742786815, 'min_gain_to_split': 3.622705496460103}. Best is trial 3 with value: 1.0.\n",
      "[I 2023-12-04 20:43:08,210] Trial 35 finished with value: 1.0 and parameters: {'n_estimators': 825, 'learning_rate': 0.13243639529297396, 'num_leaves': 1546, 'max_depth': 12, 'min_data_in_leaf': 6, 'reg_alpha': 0.04287301538388255, 'reg_lambda': 1.668897196328073, 'min_gain_to_split': 1.4075414275382538}. Best is trial 3 with value: 1.0.\n",
      "[I 2023-12-04 20:43:08,341] Trial 34 finished with value: 1.0 and parameters: {'n_estimators': 842, 'learning_rate': 0.13886706279387637, 'num_leaves': 1512, 'max_depth': 12, 'min_data_in_leaf': 8, 'reg_alpha': 0.2808419594284173, 'reg_lambda': 1.2953776559130699, 'min_gain_to_split': 0.009784407700081488}. Best is trial 3 with value: 1.0.\n",
      "[I 2023-12-04 20:43:08,530] Trial 36 finished with value: 1.0 and parameters: {'n_estimators': 893, 'learning_rate': 0.13537897066403926, 'num_leaves': 1541, 'max_depth': 12, 'min_data_in_leaf': 8, 'reg_alpha': 0.1437955756212403, 'reg_lambda': 1.4338449387682035, 'min_gain_to_split': 1.4174640865698063}. Best is trial 3 with value: 1.0.\n",
      "[I 2023-12-04 20:43:08,742] Trial 41 finished with value: 1.0 and parameters: {'n_estimators': 288, 'learning_rate': 0.10538503189476084, 'num_leaves': 1944, 'max_depth': 4, 'min_data_in_leaf': 27, 'reg_alpha': 1.5875883201620187, 'reg_lambda': 1.9033795508974387, 'min_gain_to_split': 3.9648024940342643}. Best is trial 3 with value: 1.0.\n",
      "[I 2023-12-04 20:43:08,953] Trial 40 finished with value: 1.0 and parameters: {'n_estimators': 898, 'learning_rate': 0.03045822349386401, 'num_leaves': 1956, 'max_depth': 4, 'min_data_in_leaf': 28, 'reg_alpha': 1.6598786602509865, 'reg_lambda': 2.1375528598745532, 'min_gain_to_split': 4.042918577796552}. Best is trial 3 with value: 1.0.\n",
      "[I 2023-12-04 20:43:09,174] Trial 38 finished with value: 1.0 and parameters: {'n_estimators': 826, 'learning_rate': 0.015528578012909355, 'num_leaves': 1978, 'max_depth': 11, 'min_data_in_leaf': 11, 'reg_alpha': 1.5147133882018424, 'reg_lambda': 1.7783953106439445, 'min_gain_to_split': 3.7142954710926004}. Best is trial 3 with value: 1.0.\n",
      "[I 2023-12-04 20:43:09,314] Trial 43 finished with value: 1.0 and parameters: {'n_estimators': 449, 'learning_rate': 0.23351583495982564, 'num_leaves': 1107, 'max_depth': 10, 'min_data_in_leaf': 18, 'reg_alpha': 2.7470350979660023, 'reg_lambda': 0.740753876437187, 'min_gain_to_split': 6.1369113390969465}. Best is trial 3 with value: 1.0.\n",
      "[I 2023-12-04 20:43:09,403] Trial 39 finished with value: 1.0 and parameters: {'n_estimators': 896, 'learning_rate': 0.029454277900778286, 'num_leaves': 1947, 'max_depth': 11, 'min_data_in_leaf': 28, 'reg_alpha': 1.667815972965884, 'reg_lambda': 1.8426709379697923, 'min_gain_to_split': 3.3664433328833816}. Best is trial 3 with value: 1.0.\n",
      "[I 2023-12-04 20:43:09,629] Trial 42 finished with value: 1.0 and parameters: {'n_estimators': 940, 'learning_rate': 0.006207201734734713, 'num_leaves': 1101, 'max_depth': 3, 'min_data_in_leaf': 18, 'reg_alpha': 2.7197523451248307, 'reg_lambda': 2.2921870978540273, 'min_gain_to_split': 3.441260873893604}. Best is trial 3 with value: 1.0.\n",
      "[I 2023-12-04 20:43:09,969] Trial 45 finished with value: 1.0 and parameters: {'n_estimators': 946, 'learning_rate': 0.4560076526217774, 'num_leaves': 408, 'max_depth': 11, 'min_data_in_leaf': 5, 'reg_alpha': 0.7641230116971183, 'reg_lambda': 0.7266924938947428, 'min_gain_to_split': 4.612638295164679}. Best is trial 3 with value: 1.0.\n",
      "[I 2023-12-04 20:43:10,131] Trial 46 finished with value: 1.0 and parameters: {'n_estimators': 685, 'learning_rate': 0.46808312410366804, 'num_leaves': 1138, 'max_depth': 11, 'min_data_in_leaf': 3, 'reg_alpha': 0.8925033431292525, 'reg_lambda': 0.5344351795886322, 'min_gain_to_split': 8.618497141960816}. Best is trial 3 with value: 1.0.\n",
      "[I 2023-12-04 20:43:10,297] Trial 44 finished with value: 1.0 and parameters: {'n_estimators': 980, 'learning_rate': 0.4509793430447142, 'num_leaves': 2527, 'max_depth': 11, 'min_data_in_leaf': 17, 'reg_alpha': 0.8882689325711706, 'reg_lambda': 0.6812609010792412, 'min_gain_to_split': 8.589636375856717}. Best is trial 3 with value: 1.0.\n",
      "[I 2023-12-04 20:43:10,748] Trial 50 finished with value: 1.0 and parameters: {'n_estimators': 522, 'learning_rate': 0.49042730262512013, 'num_leaves': 1752, 'max_depth': 10, 'min_data_in_leaf': 12, 'reg_alpha': 0.5522574685111381, 'reg_lambda': 0.003330209554541552, 'min_gain_to_split': 10.6450190796191}. Best is trial 3 with value: 1.0.\n",
      "[I 2023-12-04 20:43:10,815] Trial 48 finished with value: 1.0 and parameters: {'n_estimators': 962, 'learning_rate': 0.46906886921604557, 'num_leaves': 2517, 'max_depth': 10, 'min_data_in_leaf': 12, 'reg_alpha': 0.8732140223496851, 'reg_lambda': 0.5088769254012491, 'min_gain_to_split': 8.21581394785768}. Best is trial 3 with value: 1.0.\n",
      "[I 2023-12-04 20:43:10,930] Trial 49 finished with value: 1.0 and parameters: {'n_estimators': 955, 'learning_rate': 0.4969152965620527, 'num_leaves': 1700, 'max_depth': 10, 'min_data_in_leaf': 13, 'reg_alpha': 0.5700536638610333, 'reg_lambda': 0.1940743806832309, 'min_gain_to_split': 10.881842831775437}. Best is trial 3 with value: 1.0.\n",
      "[I 2023-12-04 20:43:11,015] Trial 47 finished with value: 1.0 and parameters: {'n_estimators': 987, 'learning_rate': 0.47391896751410756, 'num_leaves': 2487, 'max_depth': 11, 'min_data_in_leaf': 13, 'reg_alpha': 0.755130610545679, 'reg_lambda': 0.8997909777192743, 'min_gain_to_split': 8.742755519100893}. Best is trial 3 with value: 1.0.\n",
      "[I 2023-12-04 20:43:11,300] Trial 51 finished with value: 0.9666666666666667 and parameters: {'n_estimators': 761, 'learning_rate': 0.4998496274864688, 'num_leaves': 2765, 'max_depth': 6, 'min_data_in_leaf': 15, 'reg_alpha': 1.0153338807817114, 'reg_lambda': 2.8338781699169115, 'min_gain_to_split': 6.558817923643024}. Best is trial 3 with value: 1.0.\n",
      "[I 2023-12-04 20:43:11,367] Trial 54 finished with value: 1.0 and parameters: {'n_estimators': 481, 'learning_rate': 0.43484878026147, 'num_leaves': 1009, 'max_depth': 6, 'min_data_in_leaf': 32, 'reg_alpha': 1.2104681569357263, 'reg_lambda': 0.9787514869866578, 'min_gain_to_split': 1.8431486625141336}. Best is trial 3 with value: 1.0.\n",
      "[I 2023-12-04 20:43:11,434] Trial 52 finished with value: 1.0 and parameters: {'n_estimators': 772, 'learning_rate': 0.3195970636102231, 'num_leaves': 1694, 'max_depth': 6, 'min_data_in_leaf': 15, 'reg_alpha': 1.2299358108969298, 'reg_lambda': 3.0336238808478235, 'min_gain_to_split': 6.840284566360612}. Best is trial 3 with value: 1.0.\n",
      "[I 2023-12-04 20:43:11,536] Trial 53 finished with value: 1.0 and parameters: {'n_estimators': 765, 'learning_rate': 0.4248968406556775, 'num_leaves': 534, 'max_depth': 6, 'min_data_in_leaf': 33, 'reg_alpha': 1.1705901799055498, 'reg_lambda': 2.8356142406969855, 'min_gain_to_split': 7.060279602627951}. Best is trial 3 with value: 1.0.\n",
      "[I 2023-12-04 20:43:11,724] Trial 55 finished with value: 1.0 and parameters: {'n_estimators': 460, 'learning_rate': 0.4311115368365254, 'num_leaves': 995, 'max_depth': 12, 'min_data_in_leaf': 31, 'reg_alpha': 1.2647651091193217, 'reg_lambda': 1.0038873819528682, 'min_gain_to_split': 1.8328356264862733}. Best is trial 3 with value: 1.0.\n",
      "[I 2023-12-04 20:43:11,944] Trial 56 finished with value: 1.0 and parameters: {'n_estimators': 426, 'learning_rate': 0.4247294879277852, 'num_leaves': 1202, 'max_depth': 12, 'min_data_in_leaf': 32, 'reg_alpha': 2.0846350347724267, 'reg_lambda': 0.3455865615819232, 'min_gain_to_split': 0.6982529235062755}. Best is trial 3 with value: 1.0.\n",
      "[I 2023-12-04 20:43:11,992] Trial 58 finished with value: 1.0 and parameters: {'n_estimators': 582, 'learning_rate': 0.4122835644687901, 'num_leaves': 955, 'max_depth': 12, 'min_data_in_leaf': 30, 'reg_alpha': 2.02883194150119, 'reg_lambda': 1.0385090618196549, 'min_gain_to_split': 0.8833920063501739}. Best is trial 3 with value: 1.0.\n",
      "[I 2023-12-04 20:43:12,159] Trial 57 finished with value: 1.0 and parameters: {'n_estimators': 437, 'learning_rate': 0.4243071143790981, 'num_leaves': 2102, 'max_depth': 12, 'min_data_in_leaf': 20, 'reg_alpha': 2.1259321811769722, 'reg_lambda': 0.284768363080888, 'min_gain_to_split': 0.6632822608436755}. Best is trial 3 with value: 1.0.\n",
      "[I 2023-12-04 20:43:12,358] Trial 59 finished with value: 1.0 and parameters: {'n_estimators': 582, 'learning_rate': 0.39119258764692644, 'num_leaves': 1443, 'max_depth': 5, 'min_data_in_leaf': 39, 'reg_alpha': 2.103755978484192, 'reg_lambda': 0.3782449746194802, 'min_gain_to_split': 0.9491863035216923}. Best is trial 3 with value: 1.0.\n",
      "[I 2023-12-04 20:43:12,656] Trial 61 finished with value: 1.0 and parameters: {'n_estimators': 727, 'learning_rate': 0.39189050517155033, 'num_leaves': 2142, 'max_depth': 5, 'min_data_in_leaf': 45, 'reg_alpha': 2.4862013894586377, 'reg_lambda': 0.35275856835083225, 'min_gain_to_split': 2.8619601507326435}. Best is trial 3 with value: 1.0.\n",
      "[I 2023-12-04 20:43:12,788] Trial 60 finished with value: 1.0 and parameters: {'n_estimators': 718, 'learning_rate': 0.20778241377666432, 'num_leaves': 2174, 'max_depth': 5, 'min_data_in_leaf': 45, 'reg_alpha': 0.5025852875412364, 'reg_lambda': 0.44896217921875614, 'min_gain_to_split': 2.8464716078026733}. Best is trial 3 with value: 1.0.\n",
      "[I 2023-12-04 20:43:12,932] Trial 62 finished with value: 1.0 and parameters: {'n_estimators': 718, 'learning_rate': 0.38638501100388833, 'num_leaves': 1410, 'max_depth': 5, 'min_data_in_leaf': 39, 'reg_alpha': 0.5149953636190594, 'reg_lambda': 3.379505284885178, 'min_gain_to_split': 2.982156540202298}. Best is trial 3 with value: 1.0.\n",
      "[I 2023-12-04 20:43:13,105] Trial 63 finished with value: 1.0 and parameters: {'n_estimators': 718, 'learning_rate': 0.3587045754983574, 'num_leaves': 1261, 'max_depth': 7, 'min_data_in_leaf': 45, 'reg_alpha': 0.4828948012402039, 'reg_lambda': 3.6964107917126645, 'min_gain_to_split': 2.983910202674709}. Best is trial 3 with value: 1.0.\n",
      "[I 2023-12-04 20:43:13,302] Trial 64 finished with value: 1.0 and parameters: {'n_estimators': 503, 'learning_rate': 0.45471655098354025, 'num_leaves': 1221, 'max_depth': 7, 'min_data_in_leaf': 2, 'reg_alpha': 0.49675398460301573, 'reg_lambda': 0.06145990650476518, 'min_gain_to_split': 2.083197119444192}. Best is trial 3 with value: 1.0.\n",
      "[I 2023-12-04 20:43:13,468] Trial 65 finished with value: 1.0 and parameters: {'n_estimators': 508, 'learning_rate': 0.4835033528167148, 'num_leaves': 1256, 'max_depth': 7, 'min_data_in_leaf': 3, 'reg_alpha': 0.4836329936081584, 'reg_lambda': 1.4794432837208653, 'min_gain_to_split': 1.6783322739748394}. Best is trial 3 with value: 1.0.\n",
      "[I 2023-12-04 20:43:13,612] Trial 66 finished with value: 1.0 and parameters: {'n_estimators': 503, 'learning_rate': 0.4822553530935052, 'num_leaves': 1219, 'max_depth': 7, 'min_data_in_leaf': 2, 'reg_alpha': 0.00046478611317257723, 'reg_lambda': 0.05952070928244835, 'min_gain_to_split': 1.9628750657471268}. Best is trial 3 with value: 1.0.\n",
      "[I 2023-12-04 20:43:13,700] Trial 67 finished with value: 1.0 and parameters: {'n_estimators': 517, 'learning_rate': 0.481792738223265, 'num_leaves': 743, 'max_depth': 7, 'min_data_in_leaf': 1, 'reg_alpha': 1.8258777364323582, 'reg_lambda': 1.4496130013392279, 'min_gain_to_split': 1.8453922119420438}. Best is trial 3 with value: 1.0.\n",
      "[I 2023-12-04 20:43:14,060] Trial 68 finished with value: 1.0 and parameters: {'n_estimators': 647, 'learning_rate': 0.488169401984333, 'num_leaves': 730, 'max_depth': 9, 'min_data_in_leaf': 3, 'reg_alpha': 0.05016395226969006, 'reg_lambda': 1.537881462165899, 'min_gain_to_split': 1.7139843022856764}. Best is trial 3 with value: 1.0.\n",
      "[I 2023-12-04 20:43:14,081] Trial 70 finished with value: 1.0 and parameters: {'n_estimators': 403, 'learning_rate': 0.4436466204350463, 'num_leaves': 613, 'max_depth': 9, 'min_data_in_leaf': 24, 'reg_alpha': 1.4406246435731629, 'reg_lambda': 1.085112315543918, 'min_gain_to_split': 2.3296491586725203}. Best is trial 3 with value: 1.0.\n",
      "[I 2023-12-04 20:43:14,211] Trial 71 finished with value: 1.0 and parameters: {'n_estimators': 377, 'learning_rate': 0.15942117883799942, 'num_leaves': 1816, 'max_depth': 9, 'min_data_in_leaf': 5, 'reg_alpha': 1.7786957717537433, 'reg_lambda': 1.0546716928755162, 'min_gain_to_split': 0.4023596563088949}. Best is trial 3 with value: 1.0.\n",
      "[I 2023-12-04 20:43:14,301] Trial 69 finished with value: 1.0 and parameters: {'n_estimators': 645, 'learning_rate': 0.48097629669100334, 'num_leaves': 787, 'max_depth': 9, 'min_data_in_leaf': 25, 'reg_alpha': 1.7980580128322419, 'reg_lambda': 1.2169854571928795, 'min_gain_to_split': 2.3719350765664133}. Best is trial 3 with value: 1.0.\n",
      "[I 2023-12-04 20:43:14,483] Trial 72 finished with value: 1.0 and parameters: {'n_estimators': 379, 'learning_rate': 0.1528306882020311, 'num_leaves': 1620, 'max_depth': 6, 'min_data_in_leaf': 9, 'reg_alpha': 3.0201399933178195, 'reg_lambda': 0.7009487935385129, 'min_gain_to_split': 0.3224433712964073}. Best is trial 3 with value: 1.0.\n",
      "[I 2023-12-04 20:43:14,709] Trial 73 finished with value: 1.0 and parameters: {'n_estimators': 550, 'learning_rate': 0.15578102228765434, 'num_leaves': 1619, 'max_depth': 6, 'min_data_in_leaf': 9, 'reg_alpha': 2.894945378388722, 'reg_lambda': 2.339505700908818, 'min_gain_to_split': 5.946202587192643}. Best is trial 3 with value: 1.0.\n",
      "[I 2023-12-04 20:43:14,775] Trial 74 finished with value: 1.0 and parameters: {'n_estimators': 556, 'learning_rate': 0.11720191906722069, 'num_leaves': 1619, 'max_depth': 6, 'min_data_in_leaf': 9, 'reg_alpha': 1.2624284701390116, 'reg_lambda': 0.6023484502244647, 'min_gain_to_split': 5.7199118776518425}. Best is trial 3 with value: 1.0.\n",
      "[I 2023-12-04 20:43:14,908] Trial 75 finished with value: 1.0 and parameters: {'n_estimators': 602, 'learning_rate': 0.12139107134992519, 'num_leaves': 1625, 'max_depth': 6, 'min_data_in_leaf': 9, 'reg_alpha': 1.1852437245258973, 'reg_lambda': 0.7273946525396124, 'min_gain_to_split': 7.605181542111014}. Best is trial 3 with value: 1.0.\n",
      "[I 2023-12-04 20:43:15,142] Trial 76 finished with value: 1.0 and parameters: {'n_estimators': 606, 'learning_rate': 0.10324426653770698, 'num_leaves': 1583, 'max_depth': 6, 'min_data_in_leaf': 5, 'reg_alpha': 1.314473382527652, 'reg_lambda': 0.6129191629136717, 'min_gain_to_split': 4.739431262059495}. Best is trial 3 with value: 1.0.\n",
      "[I 2023-12-04 20:43:15,421] Trial 78 finished with value: 1.0 and parameters: {'n_estimators': 597, 'learning_rate': 0.11203323710912286, 'num_leaves': 1346, 'max_depth': 8, 'min_data_in_leaf': 6, 'reg_alpha': 2.4773794990007123, 'reg_lambda': 0.07502023646331302, 'min_gain_to_split': 4.363312100980017}. Best is trial 3 with value: 1.0.\n",
      "[I 2023-12-04 20:43:15,516] Trial 77 finished with value: 1.0 and parameters: {'n_estimators': 620, 'learning_rate': 0.11331547419162305, 'num_leaves': 1358, 'max_depth': 6, 'min_data_in_leaf': 5, 'reg_alpha': 1.004762680691972, 'reg_lambda': 0.06420947186173812, 'min_gain_to_split': 1.2266130152443102}. Best is trial 3 with value: 1.0.\n",
      "[I 2023-12-04 20:43:15,885] Trial 80 finished with value: 1.0 and parameters: {'n_estimators': 862, 'learning_rate': 0.4631917881329203, 'num_leaves': 1437, 'max_depth': 8, 'min_data_in_leaf': 34, 'reg_alpha': 2.496774150037392, 'reg_lambda': 0.007114394346512842, 'min_gain_to_split': 4.285946589113738}. Best is trial 3 with value: 1.0.\n",
      "[I 2023-12-04 20:43:16,027] Trial 81 finished with value: 1.0 and parameters: {'n_estimators': 797, 'learning_rate': 0.18335786437753282, 'num_leaves': 1077, 'max_depth': 4, 'min_data_in_leaf': 35, 'reg_alpha': 0.8490389746558764, 'reg_lambda': 1.9749734734141042, 'min_gain_to_split': 3.9107509973019994}. Best is trial 3 with value: 1.0.\n",
      "[I 2023-12-04 20:43:16,185] Trial 79 finished with value: 1.0 and parameters: {'n_estimators': 795, 'learning_rate': 0.19375757537146276, 'num_leaves': 1062, 'max_depth': 11, 'min_data_in_leaf': 5, 'reg_alpha': 2.472760924691572, 'reg_lambda': 0.11145434851555339, 'min_gain_to_split': 4.5939432300513605}. Best is trial 3 with value: 1.0.\n",
      "[I 2023-12-04 20:43:16,558] Trial 82 finished with value: 1.0 and parameters: {'n_estimators': 799, 'learning_rate': 0.4661430849720783, 'num_leaves': 1463, 'max_depth': 11, 'min_data_in_leaf': 1, 'reg_alpha': 0.26659834766554463, 'reg_lambda': 2.021094215522693, 'min_gain_to_split': 9.490898218514292}. Best is trial 3 with value: 1.0.\n",
      "[I 2023-12-04 20:43:16,679] Trial 85 finished with value: 1.0 and parameters: {'n_estimators': 697, 'learning_rate': 0.09418688689534263, 'num_leaves': 1824, 'max_depth': 5, 'min_data_in_leaf': 1, 'reg_alpha': 0.24794314865762357, 'reg_lambda': 0.8612593225936838, 'min_gain_to_split': 9.31062372534182}. Best is trial 3 with value: 1.0.\n",
      "[I 2023-12-04 20:43:16,901] Trial 83 finished with value: 1.0 and parameters: {'n_estimators': 804, 'learning_rate': 0.17863511831749682, 'num_leaves': 1103, 'max_depth': 11, 'min_data_in_leaf': 1, 'reg_alpha': 0.7165175707983057, 'reg_lambda': 1.744778113619836, 'min_gain_to_split': 3.808057183080567}. Best is trial 3 with value: 1.0.\n",
      "[I 2023-12-04 20:43:17,022] Trial 84 finished with value: 0.9666666666666667 and parameters: {'n_estimators': 806, 'learning_rate': 0.08909573503142677, 'num_leaves': 1789, 'max_depth': 11, 'min_data_in_leaf': 1, 'reg_alpha': 3.663516716024074, 'reg_lambda': 1.7221508098228746, 'min_gain_to_split': 7.460174323847131}. Best is trial 3 with value: 1.0.\n",
      "[I 2023-12-04 20:43:17,135] Trial 86 finished with value: 1.0 and parameters: {'n_estimators': 686, 'learning_rate': 0.09687573723949254, 'num_leaves': 1830, 'max_depth': 5, 'min_data_in_leaf': 7, 'reg_alpha': 1.512474243606526, 'reg_lambda': 0.8833055164300008, 'min_gain_to_split': 7.282641704463577}. Best is trial 3 with value: 1.0.\n",
      "[I 2023-12-04 20:43:17,338] Trial 87 finished with value: 1.0 and parameters: {'n_estimators': 467, 'learning_rate': 0.14670278580761933, 'num_leaves': 1154, 'max_depth': 12, 'min_data_in_leaf': 7, 'reg_alpha': 1.5639323124135445, 'reg_lambda': 1.1848792361153309, 'min_gain_to_split': 7.712340177419597}. Best is trial 3 with value: 1.0.\n",
      "[I 2023-12-04 20:43:17,528] Trial 90 finished with value: 1.0 and parameters: {'n_estimators': 479, 'learning_rate': 0.07073373267846975, 'num_leaves': 913, 'max_depth': 7, 'min_data_in_leaf': 3, 'reg_alpha': 1.9142503732759544, 'reg_lambda': 0.33911336459046293, 'min_gain_to_split': 7.834615670887874}. Best is trial 3 with value: 1.0.\n",
      "[I 2023-12-04 20:43:17,602] Trial 89 finished with value: 1.0 and parameters: {'n_estimators': 668, 'learning_rate': 0.14103863195933494, 'num_leaves': 877, 'max_depth': 12, 'min_data_in_leaf': 7, 'reg_alpha': 1.4973376484754828, 'reg_lambda': 1.2749092093392584, 'min_gain_to_split': 7.942710875561371}. Best is trial 3 with value: 1.0.\n",
      "[I 2023-12-04 20:43:17,802] Trial 88 finished with value: 1.0 and parameters: {'n_estimators': 676, 'learning_rate': 0.13914119654072846, 'num_leaves': 1159, 'max_depth': 12, 'min_data_in_leaf': 4, 'reg_alpha': 1.5301614476578065, 'reg_lambda': 1.1927859919821995, 'min_gain_to_split': 7.411562038298731}. Best is trial 3 with value: 1.0.\n",
      "[I 2023-12-04 20:43:17,964] Trial 91 finished with value: 1.0 and parameters: {'n_estimators': 747, 'learning_rate': 0.1284584816928143, 'num_leaves': 873, 'max_depth': 7, 'min_data_in_leaf': 21, 'reg_alpha': 4.057324698728148, 'reg_lambda': 0.37983523452842555, 'min_gain_to_split': 6.2664406834069695}. Best is trial 3 with value: 1.0.\n",
      "[I 2023-12-04 20:43:18,146] Trial 93 finished with value: 1.0 and parameters: {'n_estimators': 737, 'learning_rate': 0.16754069537023333, 'num_leaves': 2794, 'max_depth': 6, 'min_data_in_leaf': 4, 'reg_alpha': 1.0176424145366454, 'reg_lambda': 0.5286432967310244, 'min_gain_to_split': 6.577426379836016}. Best is trial 3 with value: 1.0.\n",
      "[I 2023-12-04 20:43:18,169] Trial 92 finished with value: 1.0 and parameters: {'n_estimators': 744, 'learning_rate': 0.13016929772117722, 'num_leaves': 2779, 'max_depth': 6, 'min_data_in_leaf': 4, 'reg_alpha': 4.060799547897495, 'reg_lambda': 1.2848294583265263, 'min_gain_to_split': 6.320042170040638}. Best is trial 3 with value: 1.0.\n",
      "[I 2023-12-04 20:43:18,495] Trial 94 finished with value: 1.0 and parameters: {'n_estimators': 921, 'learning_rate': 0.1683061502854683, 'num_leaves': 2924, 'max_depth': 6, 'min_data_in_leaf': 20, 'reg_alpha': 2.2483605452566238, 'reg_lambda': 0.47967884928114235, 'min_gain_to_split': 6.841016435412724}. Best is trial 3 with value: 1.0.\n",
      "[I 2023-12-04 20:43:18,647] Trial 95 finished with value: 1.0 and parameters: {'n_estimators': 842, 'learning_rate': 0.16860445721899958, 'num_leaves': 1512, 'max_depth': 6, 'min_data_in_leaf': 11, 'reg_alpha': 1.033628444290782, 'reg_lambda': 4.1119677550141205, 'min_gain_to_split': 6.73496084127067}. Best is trial 3 with value: 1.0.\n",
      "[I 2023-12-04 20:43:18,698] Trial 96 finished with value: 0.9666666666666667 and parameters: {'n_estimators': 703, 'learning_rate': 0.4452859131753525, 'num_leaves': 2036, 'max_depth': 5, 'min_data_in_leaf': 29, 'reg_alpha': 2.2735162308351207, 'reg_lambda': 3.270600530371343, 'min_gain_to_split': 7.0982485720462805}. Best is trial 3 with value: 1.0.\n",
      "[I 2023-12-04 20:43:18,728] Trial 97 finished with value: 0.9666666666666667 and parameters: {'n_estimators': 637, 'learning_rate': 0.44036608210229744, 'num_leaves': 1482, 'max_depth': 5, 'min_data_in_leaf': 37, 'reg_alpha': 3.2938731653418296, 'reg_lambda': 3.97361186556084, 'min_gain_to_split': 6.898342665731014}. Best is trial 3 with value: 1.0.\n",
      "[I 2023-12-04 20:43:18,973] Trial 98 finished with value: 0.9666666666666667 and parameters: {'n_estimators': 838, 'learning_rate': 0.4465164774520948, 'num_leaves': 1723, 'max_depth': 5, 'min_data_in_leaf': 27, 'reg_alpha': 1.0354368981525723, 'reg_lambda': 4.113620273441988, 'min_gain_to_split': 8.32991281810257}. Best is trial 3 with value: 1.0.\n",
      "[I 2023-12-04 20:43:18,994] Trial 99 finished with value: 1.0 and parameters: {'n_estimators': 704, 'learning_rate': 0.4488668266917682, 'num_leaves': 2057, 'max_depth': 5, 'min_data_in_leaf': 26, 'reg_alpha': 1.904337932770654, 'reg_lambda': 0.8276957681768913, 'min_gain_to_split': 4.965631110875574}. Best is trial 3 with value: 1.0.\n"
     ]
    }
   ],
   "source": [
    "study.optimize(objective, n_trials = 100, show_progress_bar = True, n_jobs=4)"
   ],
   "metadata": {
    "collapsed": false,
    "ExecuteTime": {
     "end_time": "2023-12-04T12:43:19.003360300Z",
     "start_time": "2023-12-04T12:43:03.452181200Z"
    }
   },
   "id": "da7b61900ba90fd2"
  },
  {
   "cell_type": "code",
   "execution_count": 99,
   "outputs": [
    {
     "name": "stdout",
     "output_type": "stream",
     "text": [
      "Best params: {'n_estimators': 662, 'learning_rate': 0.4443548022067311, 'num_leaves': 1657, 'max_depth': 6, 'min_data_in_leaf': 7, 'reg_alpha': 1.5827802898554655, 'reg_lambda': 0.6171302463175055, 'min_gain_to_split': 10.6951908148363}\n",
      "Best value: 1.0\n"
     ]
    }
   ],
   "source": [
    "best_params = study.best_params\n",
    "best_value = study.best_value\n",
    "print(f'Best params: {best_params}')\n",
    "print(f'Best value: {best_value}\\n')"
   ],
   "metadata": {
    "collapsed": false,
    "ExecuteTime": {
     "end_time": "2023-12-04T12:43:20.970854100Z",
     "start_time": "2023-12-04T12:43:20.955246700Z"
    }
   },
   "id": "9a67cf177ee6388f"
  },
  {
   "cell_type": "code",
   "execution_count": 100,
   "outputs": [
    {
     "name": "stdout",
     "output_type": "stream",
     "text": [
      "Accuracy : 1\n",
      "Precision : 1\n",
      "Recall : 1\n",
      "F1 : 1\n",
      "Cohen's kappa : 1\n"
     ]
    }
   ],
   "source": [
    "Y_pred = LGBMClassifier(**best_params, verbose=-1).fit(X_train, Y_train).predict(X_test)\n",
    "\n",
    "print(\"Accuracy : %.4g\" % accuracy_score(Y_test, Y_pred))\n",
    "print(\"Precision : %.4g\" % precision_score(Y_test, Y_pred, average='macro'))\n",
    "print(\"Recall : %.4g\" % recall_score(Y_test, Y_pred, average='macro'))\n",
    "print(\"F1 : %.4g\" % f1_score(Y_test, Y_pred, average='macro'))\n",
    "print(\"Cohen's kappa : %.4g\" % cohen_kappa_score(Y_test, Y_pred))"
   ],
   "metadata": {
    "collapsed": false,
    "ExecuteTime": {
     "end_time": "2023-12-04T12:43:21.605636600Z",
     "start_time": "2023-12-04T12:43:21.508254500Z"
    }
   },
   "id": "510f4263530aa9b9"
  },
  {
   "cell_type": "code",
   "execution_count": 101,
   "outputs": [
    {
     "name": "stdout",
     "output_type": "stream",
     "text": [
      "\n",
      " clasification report:\n",
      "               precision    recall  f1-score   support\n",
      "\n",
      "           0       1.00      1.00      1.00        10\n",
      "           1       1.00      1.00      1.00         9\n",
      "           2       1.00      1.00      1.00        11\n",
      "\n",
      "    accuracy                           1.00        30\n",
      "   macro avg       1.00      1.00      1.00        30\n",
      "weighted avg       1.00      1.00      1.00        30\n"
     ]
    }
   ],
   "source": [
    "print('\\n clasification report:\\n', classification_report(Y_test, Y_pred))"
   ],
   "metadata": {
    "collapsed": false,
    "ExecuteTime": {
     "end_time": "2023-12-04T12:43:24.255358100Z",
     "start_time": "2023-12-04T12:43:24.250593300Z"
    }
   },
   "id": "7149d487f23fba70"
  },
  {
   "cell_type": "code",
   "execution_count": 102,
   "outputs": [],
   "source": [
    "# save log\n",
    "study.trials_dataframe().to_csv('./Result/study.csv', index=False)"
   ],
   "metadata": {
    "collapsed": false,
    "ExecuteTime": {
     "end_time": "2023-12-04T12:43:25.769251400Z",
     "start_time": "2023-12-04T12:43:25.699544500Z"
    }
   },
   "id": "490c10df3f379d75"
  },
  {
   "cell_type": "code",
   "execution_count": null,
   "outputs": [],
   "source": [],
   "metadata": {
    "collapsed": false
   },
   "id": "9c78592f79732882"
  }
 ],
 "metadata": {
  "kernelspec": {
   "display_name": "Python 3",
   "language": "python",
   "name": "python3"
  },
  "language_info": {
   "codemirror_mode": {
    "name": "ipython",
    "version": 2
   },
   "file_extension": ".py",
   "mimetype": "text/x-python",
   "name": "python",
   "nbconvert_exporter": "python",
   "pygments_lexer": "ipython2",
   "version": "2.7.6"
  }
 },
 "nbformat": 4,
 "nbformat_minor": 5
}
