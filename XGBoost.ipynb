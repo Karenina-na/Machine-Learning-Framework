{
 "cells": [
  {
   "cell_type": "code",
   "execution_count": 3,
   "outputs": [],
   "source": [
    "from sklearn.datasets import load_iris\n",
    "from sklearn.model_selection import train_test_split\n",
    "from sklearn.metrics import accuracy_score,precision_score,recall_score,f1_score,cohen_kappa_score, classification_report\n",
    "from xgboost import XGBClassifier\n",
    "import polars as pl\n",
    "import optuna"
   ],
   "metadata": {
    "collapsed": false,
    "ExecuteTime": {
     "end_time": "2023-11-30T15:19:02.090168200Z",
     "start_time": "2023-11-30T15:19:00.134540Z"
    }
   },
   "id": "initial_id"
  },
  {
   "cell_type": "code",
   "execution_count": 4,
   "outputs": [],
   "source": [
    "iris = load_iris()\n",
    "\n",
    "data = pl.DataFrame(iris.data)\n",
    "data.columns = iris.feature_names\n",
    "target = pl.Series(iris.target)"
   ],
   "metadata": {
    "collapsed": false,
    "ExecuteTime": {
     "end_time": "2023-11-30T15:19:05.567983500Z",
     "start_time": "2023-11-30T15:19:05.555220Z"
    }
   },
   "id": "c3e831840c9c407"
  },
  {
   "cell_type": "code",
   "execution_count": 5,
   "outputs": [],
   "source": [
    "X_train, X_test, Y_train, Y_test = train_test_split(data, target, test_size=0.2, random_state=42)"
   ],
   "metadata": {
    "collapsed": false,
    "ExecuteTime": {
     "end_time": "2023-11-30T15:19:06.885662300Z",
     "start_time": "2023-11-30T15:19:06.874423100Z"
    }
   },
   "id": "4c71738005e25d3b"
  },
  {
   "cell_type": "code",
   "execution_count": 6,
   "outputs": [
    {
     "data": {
      "text/plain": "((120, 4), (120,), (30, 4), (30,))"
     },
     "execution_count": 6,
     "metadata": {},
     "output_type": "execute_result"
    }
   ],
   "source": [
    "X_train.shape, Y_train.shape, X_test.shape, Y_test.shape"
   ],
   "metadata": {
    "collapsed": false,
    "ExecuteTime": {
     "end_time": "2023-11-30T15:19:07.747198900Z",
     "start_time": "2023-11-30T15:19:07.738391400Z"
    }
   },
   "id": "3b07e76aa2bfbad7"
  },
  {
   "cell_type": "code",
   "execution_count": 65,
   "outputs": [],
   "source": [
    "def objective(trial):\n",
    "    params = {\n",
    "        'booster': 'gbtree', # gbtree, gblinear or dart\n",
    "        'verbosity': 3, # 2 (silent) - 3 (debug)\n",
    "        'objective': 'multi:softmax', # multi:softmax, multi:softprob, binary:logistic, binary:logitraw, count:poisson, reg:linear, reg:logistic, reg:gamma, reg:tweedie\n",
    "        'nthread': -1, # -1 means use all processors\n",
    "        \n",
    "        'learning_rate': trial.suggest_float('learning_rate', 0.005, 0.5), # default 0.3\n",
    "        'n_estimators': trial.suggest_int('n_estimators', 100, 1000), # default 100\n",
    "        'max_depth': trial.suggest_int('max_depth', 3, 10), # default 6\n",
    "        'min_child_weight': trial.suggest_int('min_child_weight', 1, 10), # default 1\n",
    "        'gamma': trial.suggest_float('gamma', 0.0, 10.0), # default 0.0\n",
    "        'subsample': trial.suggest_float('subsample', 0.5, 1.0), # default 1.0\n",
    "        'colsample_bytree': trial.suggest_float('colsample_bytree', 0.5, 1.0),\n",
    "        'colsample_bylevel': trial.suggest_float('colsample_bylevel', 0.5, 1.0),\n",
    "        'reg_alpha': trial.suggest_float('reg_alpha', 0.0, 10.0),\n",
    "        'reg_lambda': trial.suggest_float('reg_lambda', 0.0, 10.0),\n",
    "        'random_state': 42,\n",
    "    }\n",
    "    # 设置不打印信息\n",
    "    bst = XGBClassifier(**params)\n",
    "    bst.fit(X_train, Y_train)\n",
    "    accuracy = accuracy_score(Y_test, bst.predict(X_test))\n",
    "    \n",
    "    # 减枝\n",
    "    trial.report(accuracy, step=trial.number)\n",
    "    \n",
    "    # 如果准确率低于 90%，则剪枝\n",
    "    if accuracy < 0.9:\n",
    "        raise optuna.exceptions.TrialPruned()\n",
    "    \n",
    "    return accuracy"
   ],
   "metadata": {
    "collapsed": false,
    "ExecuteTime": {
     "end_time": "2023-11-30T16:05:41.221142900Z",
     "start_time": "2023-11-30T16:05:41.212436200Z"
    }
   },
   "id": "e351528db90ec06b"
  },
  {
   "cell_type": "code",
   "execution_count": 66,
   "outputs": [
    {
     "name": "stderr",
     "output_type": "stream",
     "text": [
      "[I 2023-12-01 00:05:42,824] A new study created in memory with name: XGBoost\n"
     ]
    }
   ],
   "source": [
    "# 对 RandomSampler 而言 MedianPruner 是最好的\n",
    "# 对 TPESampler 而言 HyperbandPruner 是最好的\n",
    "optuna.logging.set_verbosity(optuna.logging.INFO)\n",
    "study = optuna.create_study(\n",
    "    study_name='XGBoost', direction='maximize', \n",
    "    sampler=optuna.samplers.TPESampler(seed=42), pruner=optuna.pruners.HyperbandPruner()\n",
    ")"
   ],
   "metadata": {
    "collapsed": false,
    "ExecuteTime": {
     "end_time": "2023-11-30T16:05:42.835559700Z",
     "start_time": "2023-11-30T16:05:42.824284600Z"
    }
   },
   "id": "60e26ad7b6c3a0ed"
  },
  {
   "cell_type": "code",
   "execution_count": 67,
   "outputs": [
    {
     "data": {
      "text/plain": "  0%|          | 0/100 [00:00<?, ?it/s]",
      "application/vnd.jupyter.widget-view+json": {
       "version_major": 2,
       "version_minor": 0,
       "model_id": "457c670e106846efa9eaa8659ea4d451"
      }
     },
     "metadata": {},
     "output_type": "display_data"
    },
    {
     "name": "stdout",
     "output_type": "stream",
     "text": [
      "[I 2023-12-01 00:05:44,266] Trial 2 finished with value: 1.0 and parameters: {'learning_rate': 0.18317382168230945, 'n_estimators': 312, 'max_depth': 8, 'min_child_weight': 5, 'gamma': 0.6738872117175809, 'subsample': 0.9463704537788391, 'colsample_bytree': 0.9127282983408311, 'colsample_bylevel': 0.7342874129645383, 'reg_alpha': 5.320742550913302, 'reg_lambda': 9.44111873072055}. Best is trial 2 with value: 1.0.\n",
      "[I 2023-12-01 00:05:44,643] Trial 0 finished with value: 1.0 and parameters: {'learning_rate': 0.15620424018985526, 'n_estimators': 374, 'max_depth': 3, 'min_child_weight': 2, 'gamma': 8.215960491453142, 'subsample': 0.9703551475080667, 'colsample_bytree': 0.6276920477602974, 'colsample_bylevel': 0.7176649628070166, 'reg_alpha': 2.782940976524184, 'reg_lambda': 1.1783168493214435}. Best is trial 2 with value: 1.0.\n",
      "[I 2023-12-01 00:05:45,716] Trial 1 finished with value: 1.0 and parameters: {'learning_rate': 0.1611419810833, 'n_estimators': 735, 'max_depth': 8, 'min_child_weight': 3, 'gamma': 1.4999815002595274, 'subsample': 0.948272990236531, 'colsample_bytree': 0.7002839059852913, 'colsample_bylevel': 0.6935456009420475, 'reg_alpha': 3.9053081865801618, 'reg_lambda': 4.638993051428443}. Best is trial 2 with value: 1.0.\n",
      "[I 2023-12-01 00:05:46,174] Trial 3 finished with value: 1.0 and parameters: {'learning_rate': 0.11347526788583605, 'n_estimators': 676, 'max_depth': 8, 'min_child_weight': 3, 'gamma': 7.780545321573721, 'subsample': 0.7597216177533916, 'colsample_bytree': 0.9173012622134221, 'colsample_bylevel': 0.9421943635174383, 'reg_alpha': 1.6276567901748273, 'reg_lambda': 0.22133697255226292}. Best is trial 2 with value: 1.0.\n",
      "[I 2023-12-01 00:05:46,685] Trial 4 finished with value: 1.0 and parameters: {'learning_rate': 0.3812664594646481, 'n_estimators': 566, 'max_depth': 9, 'min_child_weight': 3, 'gamma': 8.107557902358696, 'subsample': 0.9045943802079663, 'colsample_bytree': 0.5041092489623089, 'colsample_bylevel': 0.8056727049823353, 'reg_alpha': 2.3549166854267503, 'reg_lambda': 3.762611673951871}. Best is trial 2 with value: 1.0.\n",
      "[I 2023-12-01 00:05:47,250] Trial 5 finished with value: 1.0 and parameters: {'learning_rate': 0.12376261792744171, 'n_estimators': 546, 'max_depth': 8, 'min_child_weight': 1, 'gamma': 3.1760330523836733, 'subsample': 0.9169459455939967, 'colsample_bytree': 0.6912671176591999, 'colsample_bylevel': 0.991089392616652, 'reg_alpha': 2.657367947971947, 'reg_lambda': 4.936585417255104}. Best is trial 2 with value: 1.0.\n",
      "[I 2023-12-01 00:05:47,790] Trial 6 finished with value: 1.0 and parameters: {'learning_rate': 0.12516387500070858, 'n_estimators': 439, 'max_depth': 7, 'min_child_weight': 5, 'gamma': 7.36341952940437, 'subsample': 0.8370896798776428, 'colsample_bytree': 0.90371567349609, 'colsample_bylevel': 0.782097603286152, 'reg_alpha': 5.230362136899416, 'reg_lambda': 6.672587656419183}. Best is trial 2 with value: 1.0.\n",
      "[I 2023-12-01 00:05:48,026] Trial 7 finished with value: 1.0 and parameters: {'learning_rate': 0.09987527533996125, 'n_estimators': 583, 'max_depth': 6, 'min_child_weight': 3, 'gamma': 0.015473213674247477, 'subsample': 0.5586943328608479, 'colsample_bytree': 0.6986816544602421, 'colsample_bylevel': 0.5330024058589897, 'reg_alpha': 3.161516565094966, 'reg_lambda': 4.0248003115763105}. Best is trial 2 with value: 1.0.\n",
      "[I 2023-12-01 00:05:48,099] Trial 9 finished with value: 1.0 and parameters: {'learning_rate': 0.04029010943810261, 'n_estimators': 214, 'max_depth': 4, 'min_child_weight': 6, 'gamma': 1.0554354455389237, 'subsample': 0.7307513635445859, 'colsample_bytree': 0.7720879591880592, 'colsample_bylevel': 0.9532925810815025, 'reg_alpha': 8.915962905517214, 'reg_lambda': 5.019701278308575}. Best is trial 2 with value: 1.0.\n",
      "[I 2023-12-01 00:05:48,486] Trial 8 finished with value: 1.0 and parameters: {'learning_rate': 0.07979854181807443, 'n_estimators': 449, 'max_depth': 3, 'min_child_weight': 10, 'gamma': 2.7450097933724047, 'subsample': 0.8471942066153538, 'colsample_bytree': 0.7401268767316118, 'colsample_bylevel': 0.5736943965976681, 'reg_alpha': 5.818371835837201, 'reg_lambda': 3.052117583217128}. Best is trial 2 with value: 1.0.\n",
      "[I 2023-12-01 00:05:48,632] Trial 12 finished with value: 0.9666666666666667 and parameters: {'learning_rate': 0.3116247154663842, 'n_estimators': 110, 'max_depth': 7, 'min_child_weight': 8, 'gamma': 7.781304103384931, 'subsample': 0.7863193958376387, 'colsample_bytree': 0.5261552737304263, 'colsample_bylevel': 0.657007681478694, 'reg_alpha': 9.38833131726317, 'reg_lambda': 5.982995572817956}. Best is trial 2 with value: 1.0.\n",
      "[I 2023-12-01 00:05:49,651] Trial 10 finished with value: 1.0 and parameters: {'learning_rate': 0.3152521822309212, 'n_estimators': 395, 'max_depth': 10, 'min_child_weight': 5, 'gamma': 8.433323854958669, 'subsample': 0.5204889375107065, 'colsample_bytree': 0.9198847254947243, 'colsample_bylevel': 0.8338259536465289, 'reg_alpha': 5.526183490577836, 'reg_lambda': 0.4350065611742482}. Best is trial 2 with value: 1.0.\n",
      "[I 2023-12-01 00:05:49,900] Trial 11 finished with value: 1.0 and parameters: {'learning_rate': 0.04171616505859083, 'n_estimators': 473, 'max_depth': 10, 'min_child_weight': 10, 'gamma': 2.3205369403150877, 'subsample': 0.92569214154129, 'colsample_bytree': 0.53422474547385, 'colsample_bylevel': 0.9645807222100459, 'reg_alpha': 7.714212255278579, 'reg_lambda': 2.3769515445650624}. Best is trial 2 with value: 1.0.\n",
      "[I 2023-12-01 00:05:52,853] Trial 13 finished with value: 1.0 and parameters: {'learning_rate': 0.2947667521536707, 'n_estimators': 941, 'max_depth': 5, 'min_child_weight': 8, 'gamma': 9.762780260056312, 'subsample': 0.9966420268755074, 'colsample_bytree': 0.5549558143748107, 'colsample_bylevel': 0.6214024763656456, 'reg_alpha': 0.2817669693268554, 'reg_lambda': 0.12353056508896043}. Best is trial 2 with value: 1.0.\n",
      "[I 2023-12-01 00:05:54,452] Trial 14 finished with value: 1.0 and parameters: {'learning_rate': 0.2316734421088224, 'n_estimators': 939, 'max_depth': 5, 'min_child_weight': 1, 'gamma': 9.969645630432883, 'subsample': 0.9710703849023942, 'colsample_bytree': 0.5921331640707885, 'colsample_bylevel': 0.6743145662760823, 'reg_alpha': 0.010184380835051243, 'reg_lambda': 1.2358090654873557}. Best is trial 2 with value: 1.0.\n",
      "[I 2023-12-01 00:05:54,579] Trial 15 finished with value: 1.0 and parameters: {'learning_rate': 0.2134127921193242, 'n_estimators': 869, 'max_depth': 5, 'min_child_weight': 1, 'gamma': 5.86477302298149, 'subsample': 0.9967633529438059, 'colsample_bytree': 0.6067133092525346, 'colsample_bylevel': 0.6498320486059684, 'reg_alpha': 0.46482366665625996, 'reg_lambda': 1.984105964944339}. Best is trial 2 with value: 1.0.\n",
      "[I 2023-12-01 00:05:55,674] Trial 16 finished with value: 1.0 and parameters: {'learning_rate': 0.216179343840856, 'n_estimators': 955, 'max_depth': 5, 'min_child_weight': 1, 'gamma': 9.885520623721291, 'subsample': 0.9992766761711435, 'colsample_bytree': 0.6238882849403473, 'colsample_bylevel': 0.6759901136802553, 'reg_alpha': 0.013058455099909771, 'reg_lambda': 1.8445787210698241}. Best is trial 2 with value: 1.0.\n",
      "[I 2023-12-01 00:05:56,331] Trial 17 finished with value: 1.0 and parameters: {'learning_rate': 0.2025924944624333, 'n_estimators': 761, 'max_depth': 3, 'min_child_weight': 1, 'gamma': 5.4241807949998195, 'subsample': 0.9977449102047529, 'colsample_bytree': 0.6273384660605592, 'colsample_bylevel': 0.7041915651167188, 'reg_alpha': 3.529049380060461, 'reg_lambda': 2.0442340824670686}. Best is trial 2 with value: 1.0.\n",
      "[I 2023-12-01 00:05:57,746] Trial 19 finished with value: 1.0 and parameters: {'learning_rate': 0.4859797401933288, 'n_estimators': 776, 'max_depth': 3, 'min_child_weight': 3, 'gamma': 4.96556476983612, 'subsample': 0.8734444751335249, 'colsample_bytree': 0.6409712248744778, 'colsample_bylevel': 0.7227731204419493, 'reg_alpha': 3.6851288407735527, 'reg_lambda': 1.9624061953700558}. Best is trial 2 with value: 1.0.\n",
      "[I 2023-12-01 00:05:57,993] Trial 18 finished with value: 1.0 and parameters: {'learning_rate': 0.4872638411212469, 'n_estimators': 799, 'max_depth': 3, 'min_child_weight': 2, 'gamma': 5.1841975792467885, 'subsample': 0.9943904945307105, 'colsample_bytree': 0.6238379174249579, 'colsample_bylevel': 0.7074211106219622, 'reg_alpha': 3.9310173995651705, 'reg_lambda': 1.770279246986163}. Best is trial 2 with value: 1.0.\n",
      "[I 2023-12-01 00:05:59,183] Trial 20 finished with value: 1.0 and parameters: {'learning_rate': 0.005748383458092504, 'n_estimators': 760, 'max_depth': 3, 'min_child_weight': 3, 'gamma': 4.69677382583583, 'subsample': 0.8869324078236351, 'colsample_bytree': 0.8069961941851357, 'colsample_bylevel': 0.7220526041598769, 'reg_alpha': 3.9492456516416574, 'reg_lambda': 2.8231960395716165}. Best is trial 2 with value: 1.0.\n",
      "[I 2023-12-01 00:05:59,295] Trial 22 finished with value: 1.0 and parameters: {'learning_rate': 0.16609611498705212, 'n_estimators': 278, 'max_depth': 6, 'min_child_weight': 2, 'gamma': 3.646221015438173, 'subsample': 0.8856659644291311, 'colsample_bytree': 0.7877063201106811, 'colsample_bylevel': 0.7619238700704414, 'reg_alpha': 4.245642549331279, 'reg_lambda': 3.2636340433792386}. Best is trial 2 with value: 1.0.\n",
      "[I 2023-12-01 00:05:59,851] Trial 21 finished with value: 1.0 and parameters: {'learning_rate': 0.4951770044544117, 'n_estimators': 738, 'max_depth': 6, 'min_child_weight': 3, 'gamma': 4.40114597519868, 'subsample': 0.8867946893656173, 'colsample_bytree': 0.8043350404131757, 'colsample_bylevel': 0.7395923800456922, 'reg_alpha': 4.110892701229256, 'reg_lambda': 3.4536444106663344}. Best is trial 2 with value: 1.0.\n",
      "[I 2023-12-01 00:06:00,456] Trial 25 finished with value: 1.0 and parameters: {'learning_rate': 0.16852310071636378, 'n_estimators': 258, 'max_depth': 8, 'min_child_weight': 4, 'gamma': 1.9322789912599396, 'subsample': 0.9432689077453213, 'colsample_bytree': 0.9687214837110087, 'colsample_bylevel': 0.6098051833126632, 'reg_alpha': 4.731021738591953, 'reg_lambda': 8.551077734055948}. Best is trial 2 with value: 1.0.\n",
      "[I 2023-12-01 00:06:00,699] Trial 24 finished with value: 1.0 and parameters: {'learning_rate': 0.15535310197045601, 'n_estimators': 313, 'max_depth': 8, 'min_child_weight': 4, 'gamma': 1.3015463174179804, 'subsample': 0.9311277582088526, 'colsample_bytree': 0.9864910599573968, 'colsample_bylevel': 0.7534699704503605, 'reg_alpha': 6.545607353004291, 'reg_lambda': 9.063433629091431}. Best is trial 2 with value: 1.0.\n",
      "[I 2023-12-01 00:06:01,286] Trial 23 finished with value: 1.0 and parameters: {'learning_rate': 0.15770784866284893, 'n_estimators': 664, 'max_depth': 6, 'min_child_weight': 4, 'gamma': 3.9309223839000706, 'subsample': 0.9353282174344951, 'colsample_bytree': 0.8095598808137643, 'colsample_bylevel': 0.6011232821588606, 'reg_alpha': 1.57536907150071, 'reg_lambda': 2.8222616925748896}. Best is trial 2 with value: 1.0.\n",
      "[I 2023-12-01 00:06:01,406] Trial 26 finished with value: 1.0 and parameters: {'learning_rate': 0.16288769333896433, 'n_estimators': 327, 'max_depth': 8, 'min_child_weight': 6, 'gamma': 1.736812690161178, 'subsample': 0.9406036574419419, 'colsample_bytree': 0.8545893628151388, 'colsample_bylevel': 0.590164631076183, 'reg_alpha': 6.565717657916926, 'reg_lambda': 8.777271907855138}. Best is trial 2 with value: 1.0.\n",
      "[I 2023-12-01 00:06:01,928] Trial 30 finished with value: 1.0 and parameters: {'learning_rate': 0.25506992093889896, 'n_estimators': 117, 'max_depth': 9, 'min_child_weight': 2, 'gamma': 0.0738891938408539, 'subsample': 0.9603551132131525, 'colsample_bytree': 0.6963462219089565, 'colsample_bylevel': 0.8150562560804856, 'reg_alpha': 4.5776649691098195, 'reg_lambda': 7.955989613362025}. Best is trial 2 with value: 1.0.\n",
      "[I 2023-12-01 00:06:02,011] Trial 27 finished with value: 1.0 and parameters: {'learning_rate': 0.1730078628303935, 'n_estimators': 324, 'max_depth': 9, 'min_child_weight': 6, 'gamma': 1.176694162775386, 'subsample': 0.9297832807465842, 'colsample_bytree': 0.8331325437012707, 'colsample_bylevel': 0.8293557534641556, 'reg_alpha': 6.796711225284338, 'reg_lambda': 9.439453980205554}. Best is trial 2 with value: 1.0.\n",
      "[I 2023-12-01 00:06:02,147] Trial 28 finished with value: 1.0 and parameters: {'learning_rate': 0.18560535243076207, 'n_estimators': 345, 'max_depth': 9, 'min_child_weight': 6, 'gamma': 0.034650288518587535, 'subsample': 0.9454471644289064, 'colsample_bytree': 0.6743682136987944, 'colsample_bylevel': 0.7986044038396466, 'reg_alpha': 4.7544440691608445, 'reg_lambda': 9.94102356443691}. Best is trial 2 with value: 1.0.\n",
      "[I 2023-12-01 00:06:02,740] Trial 29 finished with value: 1.0 and parameters: {'learning_rate': 0.2579389092991852, 'n_estimators': 364, 'max_depth': 9, 'min_child_weight': 7, 'gamma': 0.04706269117630679, 'subsample': 0.9551815272991714, 'colsample_bytree': 0.6828539742687592, 'colsample_bylevel': 0.8223210659886662, 'reg_alpha': 4.827551845234279, 'reg_lambda': 8.003693251890098}. Best is trial 2 with value: 1.0.\n",
      "[I 2023-12-01 00:06:03,496] Trial 31 finished with value: 1.0 and parameters: {'learning_rate': 0.188108650732067, 'n_estimators': 375, 'max_depth': 9, 'min_child_weight': 7, 'gamma': 0.6498256356845027, 'subsample': 0.8406867119451787, 'colsample_bytree': 0.735948210461318, 'colsample_bylevel': 0.5034305363646734, 'reg_alpha': 4.819898463908225, 'reg_lambda': 7.865065842959073}. Best is trial 2 with value: 1.0.\n",
      "[I 2023-12-01 00:06:04,756] Trial 32 finished with value: 1.0 and parameters: {'learning_rate': 0.08793057558234849, 'n_estimators': 654, 'max_depth': 7, 'min_child_weight': 7, 'gamma': 2.7541339429496263, 'subsample': 0.9579585677748412, 'colsample_bytree': 0.7497716307294414, 'colsample_bylevel': 0.8691975180505565, 'reg_alpha': 4.828433373888941, 'reg_lambda': 7.634569827702196}. Best is trial 2 with value: 1.0.\n",
      "[I 2023-12-01 00:06:05,132] Trial 33 finished with value: 1.0 and parameters: {'learning_rate': 0.12046241721661634, 'n_estimators': 677, 'max_depth': 7, 'min_child_weight': 5, 'gamma': 2.7992631502170617, 'subsample': 0.9641418144812941, 'colsample_bytree': 0.7392684496624433, 'colsample_bylevel': 0.8646424673296556, 'reg_alpha': 2.4743662570759053, 'reg_lambda': 7.4490681006717026}. Best is trial 2 with value: 1.0.\n",
      "[I 2023-12-01 00:06:05,809] Trial 34 finished with value: 1.0 and parameters: {'learning_rate': 0.1331619299913916, 'n_estimators': 654, 'max_depth': 7, 'min_child_weight': 4, 'gamma': 6.307857556296162, 'subsample': 0.8501808122112726, 'colsample_bytree': 0.7404848965362835, 'colsample_bylevel': 0.8648269256687244, 'reg_alpha': 1.8627751588700991, 'reg_lambda': 0.6602611375698}. Best is trial 2 with value: 1.0.\n",
      "[I 2023-12-01 00:06:06,443] Trial 35 finished with value: 1.0 and parameters: {'learning_rate': 0.11646353764969236, 'n_estimators': 598, 'max_depth': 7, 'min_child_weight': 4, 'gamma': 6.289692259549946, 'subsample': 0.9077435132282877, 'colsample_bytree': 0.8913104065912942, 'colsample_bylevel': 0.870702545018092, 'reg_alpha': 2.4832469632282077, 'reg_lambda': 1.1227807608602478}. Best is trial 2 with value: 1.0.\n",
      "[I 2023-12-01 00:06:07,437] Trial 36 finished with value: 1.0 and parameters: {'learning_rate': 0.12694400927144023, 'n_estimators': 556, 'max_depth': 7, 'min_child_weight': 4, 'gamma': 6.484235343712971, 'subsample': 0.798994164121117, 'colsample_bytree': 0.8855473123431575, 'colsample_bylevel': 0.7565907468552355, 'reg_alpha': 2.5027954833482817, 'reg_lambda': 0.7030678582305416}. Best is trial 2 with value: 1.0.\n",
      "[I 2023-12-01 00:06:07,866] Trial 37 finished with value: 1.0 and parameters: {'learning_rate': 0.12692985683387575, 'n_estimators': 531, 'max_depth': 8, 'min_child_weight': 2, 'gamma': 6.810910568346067, 'subsample': 0.9006688865674634, 'colsample_bytree': 0.8647697706269153, 'colsample_bylevel': 0.7818751897849148, 'reg_alpha': 3.0182704370697584, 'reg_lambda': 0.7871888738014599}. Best is trial 2 with value: 1.0.\n",
      "[I 2023-12-01 00:06:08,480] Trial 38 finished with value: 1.0 and parameters: {'learning_rate': 0.1247841569205978, 'n_estimators': 526, 'max_depth': 8, 'min_child_weight': 2, 'gamma': 6.787623343732351, 'subsample': 0.7950467429730397, 'colsample_bytree': 0.8664607776218974, 'colsample_bylevel': 0.7732792917008544, 'reg_alpha': 2.872331622334697, 'reg_lambda': 4.483063962656148}. Best is trial 2 with value: 1.0.\n",
      "[I 2023-12-01 00:06:09,085] Trial 39 finished with value: 1.0 and parameters: {'learning_rate': 0.1381628405171612, 'n_estimators': 529, 'max_depth': 8, 'min_child_weight': 2, 'gamma': 6.99648103865631, 'subsample': 0.802824598039774, 'colsample_bytree': 0.9406637349616367, 'colsample_bylevel': 0.7606914787302557, 'reg_alpha': 3.2464191197247505, 'reg_lambda': 3.992539740149957}. Best is trial 2 with value: 1.0.\n",
      "[I 2023-12-01 00:06:09,501] Trial 42 finished with value: 1.0 and parameters: {'learning_rate': 0.06420734273508905, 'n_estimators': 211, 'max_depth': 4, 'min_child_weight': 5, 'gamma': 8.459763028421024, 'subsample': 0.6997400906507478, 'colsample_bytree': 0.9250649701780052, 'colsample_bylevel': 0.696518162315257, 'reg_alpha': 3.379836718104976, 'reg_lambda': 0.06714200846244833}. Best is trial 2 with value: 1.0.\n",
      "[I 2023-12-01 00:06:10,114] Trial 40 finished with value: 1.0 and parameters: {'learning_rate': 0.08840135284046743, 'n_estimators': 527, 'max_depth': 8, 'min_child_weight': 2, 'gamma': 6.8881149039795275, 'subsample': 0.7045347359349813, 'colsample_bytree': 0.9407570208548457, 'colsample_bylevel': 0.7807394502219454, 'reg_alpha': 3.5025629947594212, 'reg_lambda': 4.462829690690455}. Best is trial 2 with value: 1.0.\n",
      "[I 2023-12-01 00:06:10,424] Trial 41 finished with value: 1.0 and parameters: {'learning_rate': 0.08715396958492756, 'n_estimators': 491, 'max_depth': 8, 'min_child_weight': 2, 'gamma': 8.455438588050583, 'subsample': 0.7220674790684374, 'colsample_bytree': 0.9455335803286594, 'colsample_bylevel': 0.691120997950713, 'reg_alpha': 3.1900458594419083, 'reg_lambda': 4.121881759434633}. Best is trial 2 with value: 1.0.\n",
      "[I 2023-12-01 00:06:11,205] Trial 43 finished with value: 0.9666666666666667 and parameters: {'learning_rate': 0.07485298274871457, 'n_estimators': 432, 'max_depth': 4, 'min_child_weight': 3, 'gamma': 8.558905657270858, 'subsample': 0.6857008688889503, 'colsample_bytree': 0.9237249417116609, 'colsample_bylevel': 0.9184382608542268, 'reg_alpha': 5.380891756468282, 'reg_lambda': 5.918120848544008}. Best is trial 2 with value: 1.0.\n",
      "[I 2023-12-01 00:06:11,628] Trial 44 finished with value: 1.0 and parameters: {'learning_rate': 0.08827342804287637, 'n_estimators': 429, 'max_depth': 9, 'min_child_weight': 3, 'gamma': 7.624892105777794, 'subsample': 0.9100797808762733, 'colsample_bytree': 0.5151849478228585, 'colsample_bylevel': 0.9942628688261654, 'reg_alpha': 5.4387185070315045, 'reg_lambda': 5.440039379926892}. Best is trial 2 with value: 1.0.\n",
      "[I 2023-12-01 00:06:12,366] Trial 45 finished with value: 1.0 and parameters: {'learning_rate': 0.19511060677176237, 'n_estimators': 422, 'max_depth': 10, 'min_child_weight': 3, 'gamma': 7.829504230616253, 'subsample': 0.9170293828739126, 'colsample_bytree': 0.5028220851835173, 'colsample_bylevel': 0.9242055571184318, 'reg_alpha': 1.5969018150834773, 'reg_lambda': 5.529838196110976}. Best is trial 2 with value: 1.0.\n",
      "[I 2023-12-01 00:06:13,356] Trial 46 finished with value: 1.0 and parameters: {'learning_rate': 0.1994874950831024, 'n_estimators': 600, 'max_depth': 10, 'min_child_weight': 3, 'gamma': 7.62379157419031, 'subsample': 0.9208329549223165, 'colsample_bytree': 0.5626815693146594, 'colsample_bylevel': 0.9085360692756715, 'reg_alpha': 1.8585247998878773, 'reg_lambda': 4.866592231090425}. Best is trial 2 with value: 1.0.\n",
      "[I 2023-12-01 00:06:14,196] Trial 47 finished with value: 1.0 and parameters: {'learning_rate': 0.19748058895328627, 'n_estimators': 609, 'max_depth': 10, 'min_child_weight': 3, 'gamma': 7.661643733742068, 'subsample': 0.9761679621485453, 'colsample_bytree': 0.548625510896547, 'colsample_bylevel': 0.9956261870898511, 'reg_alpha': 1.6959412413001251, 'reg_lambda': 5.12837474421078}. Best is trial 2 with value: 1.0.\n",
      "[I 2023-12-01 00:06:14,729] Trial 48 finished with value: 1.0 and parameters: {'learning_rate': 0.22993533337862684, 'n_estimators': 616, 'max_depth': 10, 'min_child_weight': 3, 'gamma': 9.141504220230905, 'subsample': 0.912937355213977, 'colsample_bytree': 0.5594848880791286, 'colsample_bylevel': 0.7329025736114326, 'reg_alpha': 1.5998336203219934, 'reg_lambda': 6.56191576965413}. Best is trial 2 with value: 1.0.\n",
      "[I 2023-12-01 00:06:15,472] Trial 49 finished with value: 1.0 and parameters: {'learning_rate': 0.22811614940251396, 'n_estimators': 713, 'max_depth': 10, 'min_child_weight': 9, 'gamma': 9.238639337199253, 'subsample': 0.9783849710007849, 'colsample_bytree': 0.5691281337232933, 'colsample_bylevel': 0.7273482678480883, 'reg_alpha': 2.1221165638879267, 'reg_lambda': 6.650865780037014}. Best is trial 2 with value: 1.0.\n",
      "[I 2023-12-01 00:06:17,387] Trial 50 finished with value: 1.0 and parameters: {'learning_rate': 0.22160236073031192, 'n_estimators': 840, 'max_depth': 10, 'min_child_weight': 5, 'gamma': 9.508304512075092, 'subsample': 0.9774855919340858, 'colsample_bytree': 0.6591209751426165, 'colsample_bylevel': 0.7342278426870112, 'reg_alpha': 0.8319343362767396, 'reg_lambda': 6.504228582767288}. Best is trial 2 with value: 1.0.\n",
      "[I 2023-12-01 00:06:17,820] Trial 52 finished with value: 0.9666666666666667 and parameters: {'learning_rate': 0.1069628104460748, 'n_estimators': 703, 'max_depth': 9, 'min_child_weight': 5, 'gamma': 9.292734643101694, 'subsample': 0.9793325326664408, 'colsample_bytree': 0.5855552598421185, 'colsample_bylevel': 0.6517215200837675, 'reg_alpha': 4.376510049153156, 'reg_lambda': 1.446315923965975}. Best is trial 2 with value: 1.0.\n",
      "[I 2023-12-01 00:06:18,303] Trial 51 finished with value: 1.0 and parameters: {'learning_rate': 0.3786564158627987, 'n_estimators': 712, 'max_depth': 9, 'min_child_weight': 1, 'gamma': 9.111349652263327, 'subsample': 0.8634144647012014, 'colsample_bytree': 0.6634882732865489, 'colsample_bylevel': 0.7304607379227629, 'reg_alpha': 0.695537291686994, 'reg_lambda': 1.526218819958674}. Best is trial 2 with value: 1.0.\n",
      "[I 2023-12-01 00:06:19,226] Trial 56 finished with value: 1.0 and parameters: {'learning_rate': 0.1523869284932295, 'n_estimators': 192, 'max_depth': 8, 'min_child_weight': 1, 'gamma': 8.029832329498806, 'subsample': 0.8225349362191556, 'colsample_bytree': 0.7208189827697395, 'colsample_bylevel': 0.9660415136049242, 'reg_alpha': 2.7939879958728198, 'reg_lambda': 0.30072931996797214}. Best is trial 2 with value: 1.0.\n",
      "[I 2023-12-01 00:06:19,614] Trial 53 finished with value: 1.0 and parameters: {'learning_rate': 0.3999836841104522, 'n_estimators': 858, 'max_depth': 9, 'min_child_weight': 1, 'gamma': 8.071698210156491, 'subsample': 0.9768924654822292, 'colsample_bytree': 0.6555706322698708, 'colsample_bylevel': 0.6476599140163103, 'reg_alpha': 3.7176690359883144, 'reg_lambda': 1.2995570915269488}. Best is trial 2 with value: 1.0.\n",
      "[I 2023-12-01 00:06:19,979] Trial 54 finished with value: 1.0 and parameters: {'learning_rate': 0.10796171389809896, 'n_estimators': 479, 'max_depth': 9, 'min_child_weight': 1, 'gamma': 8.110600674208353, 'subsample': 0.8743705415162936, 'colsample_bytree': 0.7057765710074102, 'colsample_bylevel': 0.9640493134368231, 'reg_alpha': 2.7980280561849664, 'reg_lambda': 1.487927673477264}. Best is trial 2 with value: 1.0.\n",
      "[I 2023-12-01 00:06:20,201] Trial 55 finished with value: 1.0 and parameters: {'learning_rate': 0.1515876638493366, 'n_estimators': 478, 'max_depth': 8, 'min_child_weight': 1, 'gamma': 2.358837920223193, 'subsample': 0.8658404327069733, 'colsample_bytree': 0.7150269516123093, 'colsample_bylevel': 0.955187286849147, 'reg_alpha': 3.897569958041436, 'reg_lambda': 2.4580829857840802}. Best is trial 2 with value: 1.0.\n",
      "[I 2023-12-01 00:06:21,812] Trial 57 finished with value: 1.0 and parameters: {'learning_rate': 0.10613223352034072, 'n_estimators': 479, 'max_depth': 8, 'min_child_weight': 1, 'gamma': 7.268995056540778, 'subsample': 0.867836420020086, 'colsample_bytree': 0.7140045556998565, 'colsample_bylevel': 0.6724179493322557, 'reg_alpha': 3.7833339389479583, 'reg_lambda': 2.3868814978909247}. Best is trial 2 with value: 1.0.\n",
      "[I 2023-12-01 00:06:22,500] Trial 58 finished with value: 1.0 and parameters: {'learning_rate': 0.13877825676722316, 'n_estimators': 474, 'max_depth': 8, 'min_child_weight': 1, 'gamma': 7.292198742677273, 'subsample': 0.8747802068244435, 'colsample_bytree': 0.7641752335127172, 'colsample_bylevel': 0.7097058760295707, 'reg_alpha': 1.1896091303842016, 'reg_lambda': 2.421606020410705}. Best is trial 2 with value: 1.0.\n",
      "[I 2023-12-01 00:06:24,157] Trial 59 finished with value: 1.0 and parameters: {'learning_rate': 0.14695412313280512, 'n_estimators': 798, 'max_depth': 8, 'min_child_weight': 2, 'gamma': 3.156014541169821, 'subsample': 0.9364247000703454, 'colsample_bytree': 0.6030528907505718, 'colsample_bylevel': 0.7092550282799057, 'reg_alpha': 1.2231740922361052, 'reg_lambda': 2.2564825193525806}. Best is trial 2 with value: 1.0.\n",
      "[I 2023-12-01 00:06:24,481] Trial 60 finished with value: 1.0 and parameters: {'learning_rate': 0.1781681146491457, 'n_estimators': 900, 'max_depth': 5, 'min_child_weight': 4, 'gamma': 7.248061803319326, 'subsample': 0.9486892744682283, 'colsample_bytree': 0.6406949995893243, 'colsample_bylevel': 0.7103409144389745, 'reg_alpha': 4.254096093066244, 'reg_lambda': 3.5186097354530186}. Best is trial 2 with value: 1.0.\n",
      "[I 2023-12-01 00:06:25,799] Trial 63 finished with value: 1.0 and parameters: {'learning_rate': 0.1833300360306061, 'n_estimators': 271, 'max_depth': 5, 'min_child_weight': 4, 'gamma': 1.7749833314713128, 'subsample': 0.8995008835016772, 'colsample_bytree': 0.6399158948573749, 'colsample_bylevel': 0.7955202131430535, 'reg_alpha': 2.148304869136293, 'reg_lambda': 3.619388111530908}. Best is trial 2 with value: 1.0.\n",
      "[I 2023-12-01 00:06:26,192] Trial 61 finished with value: 1.0 and parameters: {'learning_rate': 0.14869936032099407, 'n_estimators': 804, 'max_depth': 5, 'min_child_weight': 2, 'gamma': 0.6617804396736646, 'subsample': 0.9420805649801942, 'colsample_bytree': 0.61265282585529, 'colsample_bylevel': 0.7901958958522072, 'reg_alpha': 1.247179533173782, 'reg_lambda': 3.72921405935128}. Best is trial 2 with value: 1.0.\n",
      "[I 2023-12-01 00:06:26,690] Trial 64 finished with value: 1.0 and parameters: {'learning_rate': 0.17776795186765376, 'n_estimators': 393, 'max_depth': 6, 'min_child_weight': 6, 'gamma': 5.6024659728534925, 'subsample': 0.891865724452499, 'colsample_bytree': 0.6851770246730483, 'colsample_bylevel': 0.7437658157840448, 'reg_alpha': 2.0811322246203057, 'reg_lambda': 3.7271362177586536}. Best is trial 2 with value: 1.0.\n",
      "[I 2023-12-01 00:06:26,819] Trial 62 finished with value: 1.0 and parameters: {'learning_rate': 0.04940691741042344, 'n_estimators': 810, 'max_depth': 5, 'min_child_weight': 2, 'gamma': 0.7636915617741975, 'subsample': 0.9403160375483544, 'colsample_bytree': 0.606351210023832, 'colsample_bylevel': 0.8008657980634677, 'reg_alpha': 2.1314615246957196, 'reg_lambda': 3.459191517637158}. Best is trial 2 with value: 1.0.\n",
      "[I 2023-12-01 00:06:27,471] Trial 65 finished with value: 1.0 and parameters: {'learning_rate': 0.1627027252054869, 'n_estimators': 296, 'max_depth': 6, 'min_child_weight': 6, 'gamma': 5.559327111018415, 'subsample': 0.9286239520398855, 'colsample_bytree': 0.6880288593580555, 'colsample_bylevel': 0.7440720821111566, 'reg_alpha': 5.723866462450283, 'reg_lambda': 0.04406843217619505}. Best is trial 2 with value: 1.0.\n",
      "[I 2023-12-01 00:06:28,379] Trial 67 finished with value: 0.9666666666666667 and parameters: {'learning_rate': 0.16457560126730747, 'n_estimators': 305, 'max_depth': 7, 'min_child_weight': 5, 'gamma': 8.856947922899433, 'subsample': 0.9212366112206171, 'colsample_bytree': 0.5341091147932953, 'colsample_bylevel': 0.7539388017161649, 'reg_alpha': 5.228735708294307, 'reg_lambda': 3.13082931079168}. Best is trial 2 with value: 1.0.\n",
      "[I 2023-12-01 00:06:28,502] Trial 66 finished with value: 1.0 and parameters: {'learning_rate': 0.1697888457934974, 'n_estimators': 388, 'max_depth': 7, 'min_child_weight': 6, 'gamma': 5.522080592514284, 'subsample': 0.9301673586524946, 'colsample_bytree': 0.6862093199697331, 'colsample_bylevel': 0.7485065328247449, 'reg_alpha': 6.094384357777212, 'reg_lambda': 3.1011558761483626}. Best is trial 2 with value: 1.0.\n",
      "[I 2023-12-01 00:06:29,599] Trial 68 finished with value: 0.9666666666666667 and parameters: {'learning_rate': 0.21041022452612673, 'n_estimators': 561, 'max_depth': 7, 'min_child_weight': 5, 'gamma': 8.763356504439482, 'subsample': 0.9260177848359387, 'colsample_bytree': 0.5345253655636963, 'colsample_bylevel': 0.7652788390911384, 'reg_alpha': 5.248068333313181, 'reg_lambda': 3.0727908756383755}. Best is trial 2 with value: 1.0.\n",
      "[I 2023-12-01 00:06:30,446] Trial 70 finished with value: 1.0 and parameters: {'learning_rate': 0.11210348005524831, 'n_estimators': 565, 'max_depth': 7, 'min_child_weight': 4, 'gamma': 1.4285964664998219, 'subsample': 0.9580936674494553, 'colsample_bytree': 0.7617935452340405, 'colsample_bylevel': 0.7693135735680944, 'reg_alpha': 6.036545588680263, 'reg_lambda': 0.46625046922952595}. Best is trial 2 with value: 1.0.\n",
      "[I 2023-12-01 00:06:31,156] Trial 71 finished with value: 1.0 and parameters: {'learning_rate': 0.213202493275312, 'n_estimators': 635, 'max_depth': 7, 'min_child_weight': 4, 'gamma': 1.4162875759148217, 'subsample': 0.9974403330821755, 'colsample_bytree': 0.9025342572795657, 'colsample_bylevel': 0.7701840992641174, 'reg_alpha': 4.3567190121714505, 'reg_lambda': 4.699133278902806}. Best is trial 2 with value: 1.0.\n",
      "[I 2023-12-01 00:06:31,528] Trial 69 finished with value: 1.0 and parameters: {'learning_rate': 0.10230010074220466, 'n_estimators': 987, 'max_depth': 7, 'min_child_weight': 5, 'gamma': 1.5544950382514222, 'subsample': 0.7683480776563979, 'colsample_bytree': 0.5294039529263267, 'colsample_bylevel': 0.770348360111648, 'reg_alpha': 4.429854000089096, 'reg_lambda': 3.0752981046096064}. Best is trial 2 with value: 1.0.\n",
      "[I 2023-12-01 00:06:31,901] Trial 73 finished with value: 1.0 and parameters: {'learning_rate': 0.13566459686923535, 'n_estimators': 247, 'max_depth': 6, 'min_child_weight': 3, 'gamma': 2.18309358446652, 'subsample': 0.8896353655451827, 'colsample_bytree': 0.902104280074132, 'colsample_bylevel': 0.681744445627358, 'reg_alpha': 3.1804663338334334, 'reg_lambda': 4.723976845919533}. Best is trial 2 with value: 1.0.\n",
      "[I 2023-12-01 00:06:32,599] Trial 72 finished with value: 1.0 and parameters: {'learning_rate': 0.11482331840711942, 'n_estimators': 631, 'max_depth': 6, 'min_child_weight': 8, 'gamma': 4.226690644869155, 'subsample': 0.9576938431494664, 'colsample_bytree': 0.9837511003687847, 'colsample_bylevel': 0.808025262715157, 'reg_alpha': 3.4344728052994733, 'reg_lambda': 4.4429914335271805}. Best is trial 2 with value: 1.0.\n",
      "[I 2023-12-01 00:06:32,953] Trial 75 finished with value: 1.0 and parameters: {'learning_rate': 0.12913205249386647, 'n_estimators': 353, 'max_depth': 4, 'min_child_weight': 3, 'gamma': 0.3755381892791494, 'subsample': 0.5731382536188918, 'colsample_bytree': 0.7279535394496901, 'colsample_bylevel': 0.8159801970674702, 'reg_alpha': 3.4898058722410537, 'reg_lambda': 4.342340024839682}. Best is trial 2 with value: 1.0.\n",
      "[I 2023-12-01 00:06:33,437] Trial 76 finished with value: 1.0 and parameters: {'learning_rate': 0.12081130033780832, 'n_estimators': 366, 'max_depth': 3, 'min_child_weight': 3, 'gamma': 0.9723639182712137, 'subsample': 0.6581737038778525, 'colsample_bytree': 0.7036596094783932, 'colsample_bylevel': 0.5470507123595246, 'reg_alpha': 3.5525199753649495, 'reg_lambda': 3.948446108902199}. Best is trial 2 with value: 1.0.\n",
      "[I 2023-12-01 00:06:33,831] Trial 74 finished with value: 1.0 and parameters: {'learning_rate': 0.1391505778746395, 'n_estimators': 743, 'max_depth': 4, 'min_child_weight': 3, 'gamma': 0.23111842120344184, 'subsample': 0.5002499452592372, 'colsample_bytree': 0.7907974896375686, 'colsample_bylevel': 0.5168008297578595, 'reg_alpha': 3.4154847856931942, 'reg_lambda': 4.020672073476188}. Best is trial 2 with value: 1.0.\n",
      "[I 2023-12-01 00:06:34,460] Trial 77 finished with value: 1.0 and parameters: {'learning_rate': 0.13217429604518688, 'n_estimators': 508, 'max_depth': 3, 'min_child_weight': 3, 'gamma': 0.3538634341407665, 'subsample': 0.5182017403757339, 'colsample_bytree': 0.7022651246287436, 'colsample_bylevel': 0.5520244594284016, 'reg_alpha': 3.9997371080753084, 'reg_lambda': 4.158943617600377}. Best is trial 2 with value: 1.0.\n",
      "[I 2023-12-01 00:06:35,106] Trial 78 finished with value: 1.0 and parameters: {'learning_rate': 0.07071649646744253, 'n_estimators': 577, 'max_depth': 3, 'min_child_weight': 3, 'gamma': 0.27343136570421267, 'subsample': 0.9021217530208656, 'colsample_bytree': 0.7019731872429817, 'colsample_bylevel': 0.8431173229840094, 'reg_alpha': 2.5922793940589735, 'reg_lambda': 4.027023954486893}. Best is trial 2 with value: 1.0.\n",
      "[I 2023-12-01 00:06:35,408] Trial 79 finished with value: 1.0 and parameters: {'learning_rate': 0.05490240417073679, 'n_estimators': 507, 'max_depth': 8, 'min_child_weight': 2, 'gamma': 0.3711047198617724, 'subsample': 0.8382606145646105, 'colsample_bytree': 0.700178269390237, 'colsample_bylevel': 0.6295545546837684, 'reg_alpha': 4.024842166039689, 'reg_lambda': 4.9763290686366055}. Best is trial 2 with value: 1.0.\n",
      "[I 2023-12-01 00:06:36,636] Trial 80 finished with value: 1.0 and parameters: {'learning_rate': 0.06971867209984411, 'n_estimators': 582, 'max_depth': 8, 'min_child_weight': 2, 'gamma': 8.327476214848174, 'subsample': 0.8423143985404442, 'colsample_bytree': 0.6696585757159017, 'colsample_bylevel': 0.8471123559663049, 'reg_alpha': 2.4936041949357137, 'reg_lambda': 5.080962255013434}. Best is trial 2 with value: 1.0.\n",
      "[I 2023-12-01 00:06:37,381] Trial 81 finished with value: 1.0 and parameters: {'learning_rate': 0.0670316896993566, 'n_estimators': 676, 'max_depth': 8, 'min_child_weight': 2, 'gamma': 0.9895213602034708, 'subsample': 0.8470183180535275, 'colsample_bytree': 0.6742611708674798, 'colsample_bylevel': 0.835833078348448, 'reg_alpha': 2.652431554757583, 'reg_lambda': 9.409838612609617}. Best is trial 2 with value: 1.0.\n",
      "[I 2023-12-01 00:06:37,912] Trial 82 finished with value: 1.0 and parameters: {'learning_rate': 0.1886005478422235, 'n_estimators': 673, 'max_depth': 8, 'min_child_weight': 2, 'gamma': 1.0911962709396754, 'subsample': 0.8401530919720387, 'colsample_bytree': 0.7463394321382675, 'colsample_bylevel': 0.7152935958303537, 'reg_alpha': 2.9807609643967057, 'reg_lambda': 5.343316837574865}. Best is trial 2 with value: 1.0.\n",
      "[I 2023-12-01 00:06:38,523] Trial 84 finished with value: 1.0 and parameters: {'learning_rate': 0.09402812933411801, 'n_estimators': 444, 'max_depth': 3, 'min_child_weight': 10, 'gamma': 1.0111318805130514, 'subsample': 0.8114497654246942, 'colsample_bytree': 0.7496978024379233, 'colsample_bylevel': 0.7223621787384988, 'reg_alpha': 5.1302398568835486, 'reg_lambda': 0.8931193005838707}. Best is trial 2 with value: 1.0.\n",
      "[I 2023-12-01 00:06:38,692] Trial 83 finished with value: 1.0 and parameters: {'learning_rate': 0.09691187031077372, 'n_estimators': 671, 'max_depth': 8, 'min_child_weight': 4, 'gamma': 1.0769269295580386, 'subsample': 0.8167146055809854, 'colsample_bytree': 0.7501727898903651, 'colsample_bylevel': 0.7208801045786138, 'reg_alpha': 3.0226680100574415, 'reg_lambda': 5.182638226904437}. Best is trial 2 with value: 1.0.\n",
      "[I 2023-12-01 00:06:39,637] Trial 85 finished with value: 1.0 and parameters: {'learning_rate': 0.0974901306336793, 'n_estimators': 450, 'max_depth': 3, 'min_child_weight': 9, 'gamma': 3.5887622376548842, 'subsample': 0.7745791276196868, 'colsample_bytree': 0.7436335150366693, 'colsample_bylevel': 0.6959605836977548, 'reg_alpha': 3.0783266354913845, 'reg_lambda': 0.9598612188597251}. Best is trial 2 with value: 1.0.\n",
      "[I 2023-12-01 00:06:40,050] Trial 86 finished with value: 1.0 and parameters: {'learning_rate': 0.09862402015147909, 'n_estimators': 447, 'max_depth': 3, 'min_child_weight': 10, 'gamma': 3.482099331921704, 'subsample': 0.816255093616424, 'colsample_bytree': 0.7295756263934621, 'colsample_bylevel': 0.6694942808602212, 'reg_alpha': 5.02494016236, 'reg_lambda': 1.750438652233992}. Best is trial 2 with value: 1.0.\n",
      "[I 2023-12-01 00:06:40,380] Trial 87 finished with value: 1.0 and parameters: {'learning_rate': 0.08331364852020723, 'n_estimators': 418, 'max_depth': 9, 'min_child_weight': 8, 'gamma': 3.637313692559979, 'subsample': 0.7870661343151559, 'colsample_bytree': 0.7260914555140463, 'colsample_bylevel': 0.6898296550644172, 'reg_alpha': 3.0690276255368047, 'reg_lambda': 2.795574303490796}. Best is trial 2 with value: 1.0.\n",
      "[I 2023-12-01 00:06:40,630] Trial 88 finished with value: 1.0 and parameters: {'learning_rate': 0.032634522742008475, 'n_estimators': 447, 'max_depth': 9, 'min_child_weight': 8, 'gamma': 3.2153568594015396, 'subsample': 0.7873467556832032, 'colsample_bytree': 0.7236862251200107, 'colsample_bylevel': 0.6896798679059504, 'reg_alpha': 4.916475063013742, 'reg_lambda': 4.6388205192304675}. Best is trial 2 with value: 1.0.\n",
      "[I 2023-12-01 00:06:41,085] Trial 89 finished with value: 1.0 and parameters: {'learning_rate': 0.07838762088186554, 'n_estimators': 336, 'max_depth': 9, 'min_child_weight': 7, 'gamma': 0.6283816005534697, 'subsample': 0.9665612961381064, 'colsample_bytree': 0.7260326974582609, 'colsample_bylevel': 0.7808854384033638, 'reg_alpha': 2.272921358854082, 'reg_lambda': 2.789980409280128}. Best is trial 2 with value: 1.0.\n",
      "[I 2023-12-01 00:06:41,920] Trial 90 finished with value: 1.0 and parameters: {'learning_rate': 0.08217208322154551, 'n_estimators': 408, 'max_depth': 9, 'min_child_weight': 7, 'gamma': 4.864170042312335, 'subsample': 0.9099625227243118, 'colsample_bytree': 0.6531433680332681, 'colsample_bylevel': 0.7897648713692547, 'reg_alpha': 4.918860466393647, 'reg_lambda': 8.31160524070771}. Best is trial 2 with value: 1.0.\n",
      "[I 2023-12-01 00:06:42,010] Trial 91 finished with value: 1.0 and parameters: {'learning_rate': 0.11715461075249795, 'n_estimators': 327, 'max_depth': 9, 'min_child_weight': 7, 'gamma': 1.9834334382628742, 'subsample': 0.9159996471773667, 'colsample_bytree': 0.7797578649901297, 'colsample_bylevel': 0.7879438919374856, 'reg_alpha': 4.63401485448566, 'reg_lambda': 4.64601421577199}. Best is trial 2 with value: 1.0.\n",
      "[I 2023-12-01 00:06:42,298] Trial 92 finished with value: 1.0 and parameters: {'learning_rate': 0.12010579744377292, 'n_estimators': 340, 'max_depth': 9, 'min_child_weight': 4, 'gamma': 4.904779584017435, 'subsample': 0.9116491922221402, 'colsample_bytree': 0.6524602607410536, 'colsample_bylevel': 0.7825937857434574, 'reg_alpha': 4.6865653995798064, 'reg_lambda': 8.402554405941366}. Best is trial 2 with value: 1.0.\n",
      "[I 2023-12-01 00:06:42,761] Trial 94 finished with value: 1.0 and parameters: {'learning_rate': 0.12345037027324543, 'n_estimators': 155, 'max_depth': 4, 'min_child_weight': 9, 'gamma': 1.2903472379271077, 'subsample': 0.7504695124545057, 'colsample_bytree': 0.8522889594622055, 'colsample_bylevel': 0.7375149014469006, 'reg_alpha': 8.754361952561329, 'reg_lambda': 5.690570344880114}. Best is trial 2 with value: 1.0.\n",
      "[I 2023-12-01 00:06:42,890] Trial 95 finished with value: 1.0 and parameters: {'learning_rate': 0.14906358260014388, 'n_estimators': 163, 'max_depth': 4, 'min_child_weight': 4, 'gamma': 1.6543522704590665, 'subsample': 0.8841569902683928, 'colsample_bytree': 0.8256800586754047, 'colsample_bylevel': 0.7350016257670735, 'reg_alpha': 7.794344863839532, 'reg_lambda': 3.356753576177312}. Best is trial 2 with value: 1.0.\n",
      "[I 2023-12-01 00:06:43,250] Trial 96 finished with value: 1.0 and parameters: {'learning_rate': 0.1544617560883278, 'n_estimators': 218, 'max_depth': 4, 'min_child_weight': 6, 'gamma': 1.275185449676395, 'subsample': 0.7418352328127071, 'colsample_bytree': 0.8197771033716355, 'colsample_bylevel': 0.7365090418187984, 'reg_alpha': 9.019639152364718, 'reg_lambda': 5.612155420588253}. Best is trial 2 with value: 1.0.\n",
      "[I 2023-12-01 00:06:43,863] Trial 97 finished with value: 1.0 and parameters: {'learning_rate': 0.15500441036903434, 'n_estimators': 221, 'max_depth': 4, 'min_child_weight': 3, 'gamma': 1.6717588846489029, 'subsample': 0.95109496266011, 'colsample_bytree': 0.815210364880933, 'colsample_bylevel': 0.9844005486163631, 'reg_alpha': 7.009786765225249, 'reg_lambda': 4.284103199742616}. Best is trial 2 with value: 1.0.\n",
      "[I 2023-12-01 00:06:44,384] Trial 93 finished with value: 1.0 and parameters: {'learning_rate': 0.11738142046323008, 'n_estimators': 695, 'max_depth': 4, 'min_child_weight': 4, 'gamma': 2.153538634038518, 'subsample': 0.9101840971721251, 'colsample_bytree': 0.8301977242829315, 'colsample_bylevel': 0.9857514885299887, 'reg_alpha': 2.7965347880804057, 'reg_lambda': 0.4903581013137145}. Best is trial 2 with value: 1.0.\n",
      "[I 2023-12-01 00:06:45,012] Trial 98 finished with value: 1.0 and parameters: {'learning_rate': 0.034856922662320676, 'n_estimators': 547, 'max_depth': 4, 'min_child_weight': 3, 'gamma': 0.7925726014237009, 'subsample': 0.985730050349871, 'colsample_bytree': 0.6323876179164967, 'colsample_bylevel': 0.9835103239498383, 'reg_alpha': 3.6896722428094155, 'reg_lambda': 4.213262630278711}. Best is trial 2 with value: 1.0.\n",
      "[I 2023-12-01 00:06:45,264] Trial 99 finished with value: 1.0 and parameters: {'learning_rate': 0.1404948837636592, 'n_estimators': 544, 'max_depth': 3, 'min_child_weight': 5, 'gamma': 2.529171396168666, 'subsample': 0.9487091034209438, 'colsample_bytree': 0.6204018458232243, 'colsample_bylevel': 0.9842634198536018, 'reg_alpha': 2.746022843088123, 'reg_lambda': 7.1416072688264425}. Best is trial 2 with value: 1.0.\n"
     ]
    }
   ],
   "source": [
    "study.optimize(objective, n_trials = 100, show_progress_bar = True, n_jobs=4)"
   ],
   "metadata": {
    "collapsed": false,
    "ExecuteTime": {
     "end_time": "2023-11-30T16:06:45.536418600Z",
     "start_time": "2023-11-30T16:05:43.454348Z"
    }
   },
   "id": "da7b61900ba90fd2"
  },
  {
   "cell_type": "code",
   "execution_count": 68,
   "outputs": [
    {
     "name": "stdout",
     "output_type": "stream",
     "text": [
      "Best params: {'learning_rate': 0.18317382168230945, 'n_estimators': 312, 'max_depth': 8, 'min_child_weight': 5, 'gamma': 0.6738872117175809, 'subsample': 0.9463704537788391, 'colsample_bytree': 0.9127282983408311, 'colsample_bylevel': 0.7342874129645383, 'reg_alpha': 5.320742550913302, 'reg_lambda': 9.44111873072055}\n",
      "Best value: 1.0\n"
     ]
    }
   ],
   "source": [
    "best_params = study.best_params\n",
    "best_value = study.best_value\n",
    "print(f'Best params: {best_params}')\n",
    "print(f'Best value: {best_value}\\n')"
   ],
   "metadata": {
    "collapsed": false,
    "ExecuteTime": {
     "end_time": "2023-11-30T16:06:48.069191400Z",
     "start_time": "2023-11-30T16:06:48.062374400Z"
    }
   },
   "id": "9a67cf177ee6388f"
  },
  {
   "cell_type": "code",
   "execution_count": 69,
   "outputs": [
    {
     "name": "stdout",
     "output_type": "stream",
     "text": [
      "Accuracy : 1\n",
      "Precision : 1\n",
      "Recall : 1\n",
      "F1 : 1\n",
      "Cohen's kappa : 1\n"
     ]
    }
   ],
   "source": [
    "Y_pred = XGBClassifier(**best_params).fit(X_train, Y_train).predict(X_test)\n",
    "\n",
    "print(\"Accuracy : %.4g\" % accuracy_score(Y_test, Y_pred))\n",
    "print(\"Precision : %.4g\" % precision_score(Y_test, Y_pred, average='macro'))\n",
    "print(\"Recall : %.4g\" % recall_score(Y_test, Y_pred, average='macro'))\n",
    "print(\"F1 : %.4g\" % f1_score(Y_test, Y_pred, average='macro'))\n",
    "print(\"Cohen's kappa : %.4g\" % cohen_kappa_score(Y_test, Y_pred))"
   ],
   "metadata": {
    "collapsed": false,
    "ExecuteTime": {
     "end_time": "2023-11-30T16:06:53.728993800Z",
     "start_time": "2023-11-30T16:06:53.373745700Z"
    }
   },
   "id": "510f4263530aa9b9"
  },
  {
   "cell_type": "code",
   "execution_count": 70,
   "outputs": [
    {
     "name": "stdout",
     "output_type": "stream",
     "text": [
      "\n",
      " clasification report:\n",
      "               precision    recall  f1-score   support\n",
      "\n",
      "           0       1.00      1.00      1.00        10\n",
      "           1       1.00      1.00      1.00         9\n",
      "           2       1.00      1.00      1.00        11\n",
      "\n",
      "    accuracy                           1.00        30\n",
      "   macro avg       1.00      1.00      1.00        30\n",
      "weighted avg       1.00      1.00      1.00        30\n"
     ]
    }
   ],
   "source": [
    "print('\\n clasification report:\\n', classification_report(Y_test, Y_pred))"
   ],
   "metadata": {
    "collapsed": false,
    "ExecuteTime": {
     "end_time": "2023-11-30T16:06:54.755759500Z",
     "start_time": "2023-11-30T16:06:54.747455700Z"
    }
   },
   "id": "7149d487f23fba70"
  },
  {
   "cell_type": "code",
   "execution_count": 71,
   "outputs": [],
   "source": [
    "# save log\n",
    "study.trials_dataframe().to_csv('./Result/study.csv', index=False)"
   ],
   "metadata": {
    "collapsed": false,
    "ExecuteTime": {
     "end_time": "2023-11-30T16:07:10.491340900Z",
     "start_time": "2023-11-30T16:07:10.438981400Z"
    }
   },
   "id": "490c10df3f379d75"
  },
  {
   "cell_type": "code",
   "execution_count": null,
   "outputs": [],
   "source": [],
   "metadata": {
    "collapsed": false
   },
   "id": "9c78592f79732882"
  }
 ],
 "metadata": {
  "kernelspec": {
   "display_name": "Python 3",
   "language": "python",
   "name": "python3"
  },
  "language_info": {
   "codemirror_mode": {
    "name": "ipython",
    "version": 2
   },
   "file_extension": ".py",
   "mimetype": "text/x-python",
   "name": "python",
   "nbconvert_exporter": "python",
   "pygments_lexer": "ipython2",
   "version": "2.7.6"
  }
 },
 "nbformat": 4,
 "nbformat_minor": 5
}
